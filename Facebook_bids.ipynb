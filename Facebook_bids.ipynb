{
 "cells": [
  {
   "cell_type": "code",
   "execution_count": 1,
   "id": "748bcb1b",
   "metadata": {},
   "outputs": [],
   "source": [
    "import pandas as pd\n",
    "import matplotlib.pyplot as plt\n",
    "import seaborn as sns"
   ]
  },
  {
   "cell_type": "code",
   "execution_count": 101,
   "id": "0db970c9",
   "metadata": {},
   "outputs": [],
   "source": [
    "df_bids = pd.read_csv('/Users/hazemeseifan/Library/Mobile Documents/com~apple~CloudDocs/Work/facebook-recruiting-iv-human-or-bot/bids.csv')\n",
    "train_df = pd.read_csv('/Users/hazemeseifan/Library/Mobile Documents/com~apple~CloudDocs/Work/facebook-recruiting-iv-human-or-bot/train.csv')"
   ]
  },
  {
   "cell_type": "code",
   "execution_count": 255,
   "id": "3449829e",
   "metadata": {},
   "outputs": [
    {
     "data": {
      "text/html": [
       "<div>\n",
       "<style scoped>\n",
       "    .dataframe tbody tr th:only-of-type {\n",
       "        vertical-align: middle;\n",
       "    }\n",
       "\n",
       "    .dataframe tbody tr th {\n",
       "        vertical-align: top;\n",
       "    }\n",
       "\n",
       "    .dataframe thead th {\n",
       "        text-align: right;\n",
       "    }\n",
       "</style>\n",
       "<table border=\"1\" class=\"dataframe\">\n",
       "  <thead>\n",
       "    <tr style=\"text-align: right;\">\n",
       "      <th></th>\n",
       "      <th>bid_id</th>\n",
       "      <th>bidder_id</th>\n",
       "      <th>auction</th>\n",
       "      <th>merchandise</th>\n",
       "      <th>device</th>\n",
       "      <th>time</th>\n",
       "      <th>country</th>\n",
       "      <th>ip</th>\n",
       "      <th>url</th>\n",
       "    </tr>\n",
       "  </thead>\n",
       "  <tbody>\n",
       "    <tr>\n",
       "      <th>0</th>\n",
       "      <td>0</td>\n",
       "      <td>8dac2b259fd1c6d1120e519fb1ac14fbqvax8</td>\n",
       "      <td>ewmzr</td>\n",
       "      <td>jewelry</td>\n",
       "      <td>phone0</td>\n",
       "      <td>9759243157894736</td>\n",
       "      <td>us</td>\n",
       "      <td>69.166.231.58</td>\n",
       "      <td>vasstdc27m7nks3</td>\n",
       "    </tr>\n",
       "    <tr>\n",
       "      <th>1</th>\n",
       "      <td>1</td>\n",
       "      <td>668d393e858e8126275433046bbd35c6tywop</td>\n",
       "      <td>aeqok</td>\n",
       "      <td>furniture</td>\n",
       "      <td>phone1</td>\n",
       "      <td>9759243157894736</td>\n",
       "      <td>in</td>\n",
       "      <td>50.201.125.84</td>\n",
       "      <td>jmqlhflrzwuay9c</td>\n",
       "    </tr>\n",
       "    <tr>\n",
       "      <th>2</th>\n",
       "      <td>2</td>\n",
       "      <td>aa5f360084278b35d746fa6af3a7a1a5ra3xe</td>\n",
       "      <td>wa00e</td>\n",
       "      <td>home goods</td>\n",
       "      <td>phone2</td>\n",
       "      <td>9759243157894736</td>\n",
       "      <td>py</td>\n",
       "      <td>112.54.208.157</td>\n",
       "      <td>vasstdc27m7nks3</td>\n",
       "    </tr>\n",
       "    <tr>\n",
       "      <th>3</th>\n",
       "      <td>3</td>\n",
       "      <td>3939ac3ef7d472a59a9c5f893dd3e39fh9ofi</td>\n",
       "      <td>jefix</td>\n",
       "      <td>jewelry</td>\n",
       "      <td>phone4</td>\n",
       "      <td>9759243157894736</td>\n",
       "      <td>in</td>\n",
       "      <td>18.99.175.133</td>\n",
       "      <td>vasstdc27m7nks3</td>\n",
       "    </tr>\n",
       "    <tr>\n",
       "      <th>4</th>\n",
       "      <td>4</td>\n",
       "      <td>8393c48eaf4b8fa96886edc7cf27b372dsibi</td>\n",
       "      <td>jefix</td>\n",
       "      <td>jewelry</td>\n",
       "      <td>phone5</td>\n",
       "      <td>9759243157894736</td>\n",
       "      <td>in</td>\n",
       "      <td>145.138.5.37</td>\n",
       "      <td>vasstdc27m7nks3</td>\n",
       "    </tr>\n",
       "  </tbody>\n",
       "</table>\n",
       "</div>"
      ],
      "text/plain": [
       "   bid_id                              bidder_id auction merchandise  device  \\\n",
       "0       0  8dac2b259fd1c6d1120e519fb1ac14fbqvax8   ewmzr     jewelry  phone0   \n",
       "1       1  668d393e858e8126275433046bbd35c6tywop   aeqok   furniture  phone1   \n",
       "2       2  aa5f360084278b35d746fa6af3a7a1a5ra3xe   wa00e  home goods  phone2   \n",
       "3       3  3939ac3ef7d472a59a9c5f893dd3e39fh9ofi   jefix     jewelry  phone4   \n",
       "4       4  8393c48eaf4b8fa96886edc7cf27b372dsibi   jefix     jewelry  phone5   \n",
       "\n",
       "               time country              ip              url  \n",
       "0  9759243157894736      us   69.166.231.58  vasstdc27m7nks3  \n",
       "1  9759243157894736      in   50.201.125.84  jmqlhflrzwuay9c  \n",
       "2  9759243157894736      py  112.54.208.157  vasstdc27m7nks3  \n",
       "3  9759243157894736      in   18.99.175.133  vasstdc27m7nks3  \n",
       "4  9759243157894736      in    145.138.5.37  vasstdc27m7nks3  "
      ]
     },
     "execution_count": 255,
     "metadata": {},
     "output_type": "execute_result"
    }
   ],
   "source": [
    "df_bids.head ()"
   ]
  },
  {
   "cell_type": "code",
   "execution_count": 119,
   "id": "3948e293",
   "metadata": {},
   "outputs": [
    {
     "name": "stdout",
     "output_type": "stream",
     "text": [
      "bid_id\n",
      "bidder_id\n",
      "auction\n",
      "merchandise\n",
      "device\n",
      "time\n",
      "country\n",
      "ip\n",
      "url\n"
     ]
    }
   ],
   "source": [
    "for col in df_bids.columns:\n",
    "    print(col)"
   ]
  },
  {
   "cell_type": "markdown",
   "id": "f38bd42f",
   "metadata": {},
   "source": [
    "## Question 1:\n",
    "### For each auction, the number of unique ip addresses"
   ]
  },
  {
   "cell_type": "code",
   "execution_count": 239,
   "id": "05b1b915",
   "metadata": {},
   "outputs": [],
   "source": [
    "unique_ips= df_bids.groupby ('auction') ['ip'].nunique()\n",
    "new_column_names = [ 'No. unique IPs']\n",
    "unique_ips.to_csv ('uniqueIps.csv',  header=new_column_names)"
   ]
  },
  {
   "cell_type": "markdown",
   "id": "f00a8ef0",
   "metadata": {},
   "source": [
    "# "
   ]
  },
  {
   "cell_type": "markdown",
   "id": "c4943f7e",
   "metadata": {},
   "source": [
    "***"
   ]
  },
  {
   "cell_type": "markdown",
   "id": "420cac0e",
   "metadata": {},
   "source": [
    "## Question 2:\n",
    "\n",
    "### For each merchandise type, the country which sent the maximum number of bids (in the csv, include also the number of bids sent by that country)"
   ]
  },
  {
   "cell_type": "code",
   "execution_count": 303,
   "id": "f0de48b9",
   "metadata": {},
   "outputs": [
    {
     "data": {
      "text/html": [
       "<div>\n",
       "<style scoped>\n",
       "    .dataframe tbody tr th:only-of-type {\n",
       "        vertical-align: middle;\n",
       "    }\n",
       "\n",
       "    .dataframe tbody tr th {\n",
       "        vertical-align: top;\n",
       "    }\n",
       "\n",
       "    .dataframe thead th {\n",
       "        text-align: right;\n",
       "    }\n",
       "</style>\n",
       "<table border=\"1\" class=\"dataframe\">\n",
       "  <thead>\n",
       "    <tr style=\"text-align: right;\">\n",
       "      <th></th>\n",
       "      <th>merchandise</th>\n",
       "      <th>country</th>\n",
       "      <th>bid_id</th>\n",
       "    </tr>\n",
       "  </thead>\n",
       "  <tbody>\n",
       "    <tr>\n",
       "      <th>0</th>\n",
       "      <td>auto parts</td>\n",
       "      <td>ae</td>\n",
       "      <td>1</td>\n",
       "    </tr>\n",
       "    <tr>\n",
       "      <th>1</th>\n",
       "      <td>auto parts</td>\n",
       "      <td>au</td>\n",
       "      <td>1</td>\n",
       "    </tr>\n",
       "    <tr>\n",
       "      <th>2</th>\n",
       "      <td>auto parts</td>\n",
       "      <td>bd</td>\n",
       "      <td>503</td>\n",
       "    </tr>\n",
       "    <tr>\n",
       "      <th>3</th>\n",
       "      <td>auto parts</td>\n",
       "      <td>bn</td>\n",
       "      <td>21</td>\n",
       "    </tr>\n",
       "    <tr>\n",
       "      <th>4</th>\n",
       "      <td>auto parts</td>\n",
       "      <td>ca</td>\n",
       "      <td>89</td>\n",
       "    </tr>\n",
       "    <tr>\n",
       "      <th>...</th>\n",
       "      <td>...</td>\n",
       "      <td>...</td>\n",
       "      <td>...</td>\n",
       "    </tr>\n",
       "    <tr>\n",
       "      <th>1519</th>\n",
       "      <td>sporting goods</td>\n",
       "      <td>ye</td>\n",
       "      <td>82</td>\n",
       "    </tr>\n",
       "    <tr>\n",
       "      <th>1520</th>\n",
       "      <td>sporting goods</td>\n",
       "      <td>za</td>\n",
       "      <td>118915</td>\n",
       "    </tr>\n",
       "    <tr>\n",
       "      <th>1521</th>\n",
       "      <td>sporting goods</td>\n",
       "      <td>zm</td>\n",
       "      <td>12943</td>\n",
       "    </tr>\n",
       "    <tr>\n",
       "      <th>1522</th>\n",
       "      <td>sporting goods</td>\n",
       "      <td>zw</td>\n",
       "      <td>12654</td>\n",
       "    </tr>\n",
       "    <tr>\n",
       "      <th>1523</th>\n",
       "      <td>sporting goods</td>\n",
       "      <td>zz</td>\n",
       "      <td>2</td>\n",
       "    </tr>\n",
       "  </tbody>\n",
       "</table>\n",
       "<p>1524 rows × 3 columns</p>\n",
       "</div>"
      ],
      "text/plain": [
       "         merchandise country  bid_id\n",
       "0         auto parts      ae       1\n",
       "1         auto parts      au       1\n",
       "2         auto parts      bd     503\n",
       "3         auto parts      bn      21\n",
       "4         auto parts      ca      89\n",
       "...              ...     ...     ...\n",
       "1519  sporting goods      ye      82\n",
       "1520  sporting goods      za  118915\n",
       "1521  sporting goods      zm   12943\n",
       "1522  sporting goods      zw   12654\n",
       "1523  sporting goods      zz       2\n",
       "\n",
       "[1524 rows x 3 columns]"
      ]
     },
     "execution_count": 303,
     "metadata": {},
     "output_type": "execute_result"
    }
   ],
   "source": [
    "merch = df_bids.groupby(['merchandise', 'country'], as_index= False).agg ({'bid_id': 'count'})\n",
    "\n",
    "merch"
   ]
  },
  {
   "cell_type": "code",
   "execution_count": 304,
   "id": "122afa1e",
   "metadata": {},
   "outputs": [
    {
     "data": {
      "text/html": [
       "<div>\n",
       "<style scoped>\n",
       "    .dataframe tbody tr th:only-of-type {\n",
       "        vertical-align: middle;\n",
       "    }\n",
       "\n",
       "    .dataframe tbody tr th {\n",
       "        vertical-align: top;\n",
       "    }\n",
       "\n",
       "    .dataframe thead th {\n",
       "        text-align: right;\n",
       "    }\n",
       "</style>\n",
       "<table border=\"1\" class=\"dataframe\">\n",
       "  <thead>\n",
       "    <tr style=\"text-align: right;\">\n",
       "      <th></th>\n",
       "      <th>merchandise</th>\n",
       "      <th>country</th>\n",
       "      <th>bid_id</th>\n",
       "    </tr>\n",
       "  </thead>\n",
       "  <tbody>\n",
       "    <tr>\n",
       "      <th>14</th>\n",
       "      <td>auto parts</td>\n",
       "      <td>in</td>\n",
       "      <td>2243</td>\n",
       "    </tr>\n",
       "    <tr>\n",
       "      <th>101</th>\n",
       "      <td>books and music</td>\n",
       "      <td>in</td>\n",
       "      <td>11820</td>\n",
       "    </tr>\n",
       "    <tr>\n",
       "      <th>230</th>\n",
       "      <td>clothing</td>\n",
       "      <td>in</td>\n",
       "      <td>7619</td>\n",
       "    </tr>\n",
       "    <tr>\n",
       "      <th>411</th>\n",
       "      <td>computers</td>\n",
       "      <td>th</td>\n",
       "      <td>16731</td>\n",
       "    </tr>\n",
       "    <tr>\n",
       "      <th>495</th>\n",
       "      <td>furniture</td>\n",
       "      <td>in</td>\n",
       "      <td>47031</td>\n",
       "    </tr>\n",
       "    <tr>\n",
       "      <th>675</th>\n",
       "      <td>home goods</td>\n",
       "      <td>in</td>\n",
       "      <td>169649</td>\n",
       "    </tr>\n",
       "    <tr>\n",
       "      <th>861</th>\n",
       "      <td>jewelry</td>\n",
       "      <td>in</td>\n",
       "      <td>560773</td>\n",
       "    </tr>\n",
       "    <tr>\n",
       "      <th>1050</th>\n",
       "      <td>mobile</td>\n",
       "      <td>in</td>\n",
       "      <td>578076</td>\n",
       "    </tr>\n",
       "    <tr>\n",
       "      <th>1225</th>\n",
       "      <td>office equipment</td>\n",
       "      <td>in</td>\n",
       "      <td>56140</td>\n",
       "    </tr>\n",
       "    <tr>\n",
       "      <th>1411</th>\n",
       "      <td>sporting goods</td>\n",
       "      <td>in</td>\n",
       "      <td>346852</td>\n",
       "    </tr>\n",
       "  </tbody>\n",
       "</table>\n",
       "</div>"
      ],
      "text/plain": [
       "           merchandise country  bid_id\n",
       "14          auto parts      in    2243\n",
       "101    books and music      in   11820\n",
       "230           clothing      in    7619\n",
       "411          computers      th   16731\n",
       "495          furniture      in   47031\n",
       "675         home goods      in  169649\n",
       "861            jewelry      in  560773\n",
       "1050            mobile      in  578076\n",
       "1225  office equipment      in   56140\n",
       "1411    sporting goods      in  346852"
      ]
     },
     "execution_count": 304,
     "metadata": {},
     "output_type": "execute_result"
    }
   ],
   "source": [
    "merch=merch.loc[merch.reset_index().groupby(['merchandise'])['bid_id'].idxmax()]\n",
    "\n",
    "merch"
   ]
  },
  {
   "cell_type": "code",
   "execution_count": 249,
   "id": "96301605",
   "metadata": {},
   "outputs": [],
   "source": [
    "new_column_names = [ 'Merch type', 'Country with max bids', 'no. of bids']\n",
    "merch.to_csv ('bids_per_merch_type.csv',  header=new_column_names, index = False)"
   ]
  },
  {
   "cell_type": "markdown",
   "id": "11de6d2c",
   "metadata": {},
   "source": [
    "# "
   ]
  },
  {
   "cell_type": "markdown",
   "id": "3bbb80f3",
   "metadata": {},
   "source": [
    "***"
   ]
  },
  {
   "cell_type": "markdown",
   "id": "35cf6bbb",
   "metadata": {},
   "source": [
    "## Question 3:\n",
    "\n",
    "### The data contains three separate time periods.  Calculate average number of unique bidders per auction in each of the three separate time periods"
   ]
  },
  {
   "cell_type": "markdown",
   "id": "05d2f188",
   "metadata": {},
   "source": [
    "To visualise the time periods, we'll draw some scatter plots."
   ]
  },
  {
   "cell_type": "code",
   "execution_count": 253,
   "id": "ec7e769f",
   "metadata": {},
   "outputs": [
    {
     "data": {
      "text/plain": [
       "<seaborn.axisgrid.PairGrid at 0x1884fd210>"
      ]
     },
     "execution_count": 253,
     "metadata": {},
     "output_type": "execute_result"
    },
    {
     "data": {
      "image/png": "[encoded data removed]",
      "text/plain": [
       "<Figure size 360x360 with 4 Axes>"
      ]
     },
     "metadata": {
      "needs_background": "light"
     },
     "output_type": "display_data"
    }
   ],
   "source": [
    "g = sns.PairGrid(df_bids)\n",
    "g.map(sns.scatterplot)"
   ]
  },
  {
   "cell_type": "code",
   "execution_count": 254,
   "id": "fab77c41",
   "metadata": {},
   "outputs": [
    {
     "data": {
      "text/plain": [
       "<AxesSubplot:xlabel='time', ylabel='time'>"
      ]
     },
     "execution_count": 254,
     "metadata": {},
     "output_type": "execute_result"
    },
    {
     "data": {
      "image/png": "[encoded data removed]",
      "text/plain": [
       "<Figure size 432x288 with 1 Axes>"
      ]
     },
     "metadata": {
      "needs_background": "light"
     },
     "output_type": "display_data"
    }
   ],
   "source": [
    "df_bids.plot (kind = 'scatter', x = 'time', y = 'time')"
   ]
  },
  {
   "cell_type": "markdown",
   "id": "5b4195ec",
   "metadata": {},
   "source": [
    "We can clarly see the three periods here.  I’ll group them under:\n",
    "1. \"period_1\" from 0 to 9680000000000000\n",
    "2. \"period_2\" from 9680000000000000 to 9740000000000000\n",
    "3. \"period_3 above 9740000000000000\n",
    "\n",
    "I’ll then add these time perids as a column the DF ang group by it.\n"
   ]
  },
  {
   "cell_type": "code",
   "execution_count": 259,
   "id": "faa58f5c",
   "metadata": {},
   "outputs": [],
   "source": [
    "def time_period (row):\n",
    "    if 0< row['time']< 9680000000000000 :\n",
    "      return 'period_1'\n",
    "    if 9680000000000000< row['time']<  9740000000000000:\n",
    "      return 'period_2'\n",
    "    if 9740000000000000< row['time'] :\n",
    "     return 'period_3'\n",
    "    return "
   ]
  },
  {
   "cell_type": "code",
   "execution_count": 263,
   "id": "5102d49d",
   "metadata": {},
   "outputs": [],
   "source": [
    "df_bids ['time_period'] = df_bids.apply (lambda row: time_period (row), axis=1)\n"
   ]
  },
  {
   "cell_type": "code",
   "execution_count": 300,
   "id": "bee306aa",
   "metadata": {},
   "outputs": [
    {
     "data": {
      "text/html": [
       "<div>\n",
       "<style scoped>\n",
       "    .dataframe tbody tr th:only-of-type {\n",
       "        vertical-align: middle;\n",
       "    }\n",
       "\n",
       "    .dataframe tbody tr th {\n",
       "        vertical-align: top;\n",
       "    }\n",
       "\n",
       "    .dataframe thead th {\n",
       "        text-align: right;\n",
       "    }\n",
       "</style>\n",
       "<table border=\"1\" class=\"dataframe\">\n",
       "  <thead>\n",
       "    <tr style=\"text-align: right;\">\n",
       "      <th></th>\n",
       "      <th>time_period</th>\n",
       "      <th>auction</th>\n",
       "      <th>bidder_id</th>\n",
       "    </tr>\n",
       "  </thead>\n",
       "  <tbody>\n",
       "    <tr>\n",
       "      <th>0</th>\n",
       "      <td>period_1</td>\n",
       "      <td>00hm5</td>\n",
       "      <td>6</td>\n",
       "    </tr>\n",
       "    <tr>\n",
       "      <th>1</th>\n",
       "      <td>period_1</td>\n",
       "      <td>00sj9</td>\n",
       "      <td>2</td>\n",
       "    </tr>\n",
       "    <tr>\n",
       "      <th>2</th>\n",
       "      <td>period_1</td>\n",
       "      <td>010lx</td>\n",
       "      <td>51</td>\n",
       "    </tr>\n",
       "    <tr>\n",
       "      <th>3</th>\n",
       "      <td>period_1</td>\n",
       "      <td>0143v</td>\n",
       "      <td>10</td>\n",
       "    </tr>\n",
       "    <tr>\n",
       "      <th>4</th>\n",
       "      <td>period_1</td>\n",
       "      <td>01dgm</td>\n",
       "      <td>9</td>\n",
       "    </tr>\n",
       "    <tr>\n",
       "      <th>...</th>\n",
       "      <td>...</td>\n",
       "      <td>...</td>\n",
       "      <td>...</td>\n",
       "    </tr>\n",
       "    <tr>\n",
       "      <th>19006</th>\n",
       "      <td>period_3</td>\n",
       "      <td>zzal8</td>\n",
       "      <td>12</td>\n",
       "    </tr>\n",
       "    <tr>\n",
       "      <th>19007</th>\n",
       "      <td>period_3</td>\n",
       "      <td>zzbm9</td>\n",
       "      <td>1</td>\n",
       "    </tr>\n",
       "    <tr>\n",
       "      <th>19008</th>\n",
       "      <td>period_3</td>\n",
       "      <td>zznnc</td>\n",
       "      <td>1</td>\n",
       "    </tr>\n",
       "    <tr>\n",
       "      <th>19009</th>\n",
       "      <td>period_3</td>\n",
       "      <td>zztha</td>\n",
       "      <td>2</td>\n",
       "    </tr>\n",
       "    <tr>\n",
       "      <th>19010</th>\n",
       "      <td>period_3</td>\n",
       "      <td>zzzlx</td>\n",
       "      <td>228</td>\n",
       "    </tr>\n",
       "  </tbody>\n",
       "</table>\n",
       "<p>19011 rows × 3 columns</p>\n",
       "</div>"
      ],
      "text/plain": [
       "      time_period auction  bidder_id\n",
       "0        period_1   00hm5          6\n",
       "1        period_1   00sj9          2\n",
       "2        period_1   010lx         51\n",
       "3        period_1   0143v         10\n",
       "4        period_1   01dgm          9\n",
       "...           ...     ...        ...\n",
       "19006    period_3   zzal8         12\n",
       "19007    period_3   zzbm9          1\n",
       "19008    period_3   zznnc          1\n",
       "19009    period_3   zztha          2\n",
       "19010    period_3   zzzlx        228\n",
       "\n",
       "[19011 rows x 3 columns]"
      ]
     },
     "execution_count": 300,
     "metadata": {},
     "output_type": "execute_result"
    }
   ],
   "source": [
    "\n",
    "periods= df_bids.groupby (['time_period', 'auction'], as_index= False).agg ({'bidder_id':'nunique'}) \n",
    "periods"
   ]
  },
  {
   "cell_type": "code",
   "execution_count": 301,
   "id": "b65d9176",
   "metadata": {},
   "outputs": [
    {
     "data": {
      "text/html": [
       "<div>\n",
       "<style scoped>\n",
       "    .dataframe tbody tr th:only-of-type {\n",
       "        vertical-align: middle;\n",
       "    }\n",
       "\n",
       "    .dataframe tbody tr th {\n",
       "        vertical-align: top;\n",
       "    }\n",
       "\n",
       "    .dataframe thead th {\n",
       "        text-align: right;\n",
       "    }\n",
       "</style>\n",
       "<table border=\"1\" class=\"dataframe\">\n",
       "  <thead>\n",
       "    <tr style=\"text-align: right;\">\n",
       "      <th></th>\n",
       "      <th>time_period</th>\n",
       "      <th>bidder_id</th>\n",
       "    </tr>\n",
       "  </thead>\n",
       "  <tbody>\n",
       "    <tr>\n",
       "      <th>0</th>\n",
       "      <td>period_1</td>\n",
       "      <td>23.316925</td>\n",
       "    </tr>\n",
       "    <tr>\n",
       "      <th>1</th>\n",
       "      <td>period_2</td>\n",
       "      <td>22.509774</td>\n",
       "    </tr>\n",
       "    <tr>\n",
       "      <th>2</th>\n",
       "      <td>period_3</td>\n",
       "      <td>21.280234</td>\n",
       "    </tr>\n",
       "  </tbody>\n",
       "</table>\n",
       "</div>"
      ],
      "text/plain": [
       "  time_period  bidder_id\n",
       "0    period_1  23.316925\n",
       "1    period_2  22.509774\n",
       "2    period_3  21.280234"
      ]
     },
     "execution_count": 301,
     "metadata": {},
     "output_type": "execute_result"
    }
   ],
   "source": [
    "periods= periods.groupby (('time_period'), as_index= False).agg ({'bidder_id':'mean'}) \n",
    "\n",
    "periods"
   ]
  },
  {
   "cell_type": "code",
   "execution_count": 302,
   "id": "9afa50f4",
   "metadata": {},
   "outputs": [],
   "source": [
    "new_column_names = [ 'Period', 'average unique bidders per bid']\n",
    "periods.to_csv ('periods.csv',  header=new_column_names, index = False)"
   ]
  },
  {
   "cell_type": "markdown",
   "id": "6738d3ae",
   "metadata": {},
   "source": [
    "# "
   ]
  },
  {
   "cell_type": "markdown",
   "id": "96be4df6",
   "metadata": {},
   "source": [
    "***"
   ]
  },
  {
   "cell_type": "markdown",
   "id": "5f2eb5c3",
   "metadata": {},
   "source": [
    "# Question 4:\n",
    "### For each country, the fraction of times a bid from that country was identified as coming from a robot"
   ]
  },
  {
   "cell_type": "markdown",
   "id": "72cdff2c",
   "metadata": {},
   "source": [
    "Note: it is not exactly clear to me what you mean by \"the fraction of times\".  Do you mean the fraction of bids that came from robots?  Or the duration during which bids came from robots? Or the time difference between bids from robots?  I took the first hypothesis, it seemed the most likley to me. "
   ]
  },
  {
   "cell_type": "code",
   "execution_count": 399,
   "id": "60e851ab",
   "metadata": {},
   "outputs": [],
   "source": [
    "df_bids = pd.read_csv('/Users/hazemeseifan/Library/Mobile Documents/com~apple~CloudDocs/Work/facebook-recruiting-iv-human-or-bot/bids.csv')\n",
    "df_train = pd.read_csv('/Users/hazemeseifan/Library/Mobile Documents/com~apple~CloudDocs/Work/facebook-recruiting-iv-human-or-bot/train.csv')"
   ]
  },
  {
   "cell_type": "code",
   "execution_count": 444,
   "id": "e52ab0f8",
   "metadata": {},
   "outputs": [
    {
     "data": {
      "text/html": [
       "<div>\n",
       "<style scoped>\n",
       "    .dataframe tbody tr th:only-of-type {\n",
       "        vertical-align: middle;\n",
       "    }\n",
       "\n",
       "    .dataframe tbody tr th {\n",
       "        vertical-align: top;\n",
       "    }\n",
       "\n",
       "    .dataframe thead th {\n",
       "        text-align: right;\n",
       "    }\n",
       "</style>\n",
       "<table border=\"1\" class=\"dataframe\">\n",
       "  <thead>\n",
       "    <tr style=\"text-align: right;\">\n",
       "      <th></th>\n",
       "      <th>bid_id</th>\n",
       "      <th>bidder_id</th>\n",
       "      <th>auction</th>\n",
       "      <th>merchandise</th>\n",
       "      <th>device</th>\n",
       "      <th>time</th>\n",
       "      <th>country</th>\n",
       "      <th>ip</th>\n",
       "      <th>url</th>\n",
       "    </tr>\n",
       "  </thead>\n",
       "  <tbody>\n",
       "    <tr>\n",
       "      <th>0</th>\n",
       "      <td>0</td>\n",
       "      <td>8dac2b259fd1c6d1120e519fb1ac14fbqvax8</td>\n",
       "      <td>ewmzr</td>\n",
       "      <td>jewelry</td>\n",
       "      <td>phone0</td>\n",
       "      <td>9759243157894736</td>\n",
       "      <td>us</td>\n",
       "      <td>69.166.231.58</td>\n",
       "      <td>vasstdc27m7nks3</td>\n",
       "    </tr>\n",
       "    <tr>\n",
       "      <th>1</th>\n",
       "      <td>1</td>\n",
       "      <td>668d393e858e8126275433046bbd35c6tywop</td>\n",
       "      <td>aeqok</td>\n",
       "      <td>furniture</td>\n",
       "      <td>phone1</td>\n",
       "      <td>9759243157894736</td>\n",
       "      <td>in</td>\n",
       "      <td>50.201.125.84</td>\n",
       "      <td>jmqlhflrzwuay9c</td>\n",
       "    </tr>\n",
       "    <tr>\n",
       "      <th>2</th>\n",
       "      <td>2</td>\n",
       "      <td>aa5f360084278b35d746fa6af3a7a1a5ra3xe</td>\n",
       "      <td>wa00e</td>\n",
       "      <td>home goods</td>\n",
       "      <td>phone2</td>\n",
       "      <td>9759243157894736</td>\n",
       "      <td>py</td>\n",
       "      <td>112.54.208.157</td>\n",
       "      <td>vasstdc27m7nks3</td>\n",
       "    </tr>\n",
       "    <tr>\n",
       "      <th>3</th>\n",
       "      <td>3</td>\n",
       "      <td>3939ac3ef7d472a59a9c5f893dd3e39fh9ofi</td>\n",
       "      <td>jefix</td>\n",
       "      <td>jewelry</td>\n",
       "      <td>phone4</td>\n",
       "      <td>9759243157894736</td>\n",
       "      <td>in</td>\n",
       "      <td>18.99.175.133</td>\n",
       "      <td>vasstdc27m7nks3</td>\n",
       "    </tr>\n",
       "    <tr>\n",
       "      <th>4</th>\n",
       "      <td>4</td>\n",
       "      <td>8393c48eaf4b8fa96886edc7cf27b372dsibi</td>\n",
       "      <td>jefix</td>\n",
       "      <td>jewelry</td>\n",
       "      <td>phone5</td>\n",
       "      <td>9759243157894736</td>\n",
       "      <td>in</td>\n",
       "      <td>145.138.5.37</td>\n",
       "      <td>vasstdc27m7nks3</td>\n",
       "    </tr>\n",
       "  </tbody>\n",
       "</table>\n",
       "</div>"
      ],
      "text/plain": [
       "   bid_id                              bidder_id auction merchandise  device  \\\n",
       "0       0  8dac2b259fd1c6d1120e519fb1ac14fbqvax8   ewmzr     jewelry  phone0   \n",
       "1       1  668d393e858e8126275433046bbd35c6tywop   aeqok   furniture  phone1   \n",
       "2       2  aa5f360084278b35d746fa6af3a7a1a5ra3xe   wa00e  home goods  phone2   \n",
       "3       3  3939ac3ef7d472a59a9c5f893dd3e39fh9ofi   jefix     jewelry  phone4   \n",
       "4       4  8393c48eaf4b8fa96886edc7cf27b372dsibi   jefix     jewelry  phone5   \n",
       "\n",
       "               time country              ip              url  \n",
       "0  9759243157894736      us   69.166.231.58  vasstdc27m7nks3  \n",
       "1  9759243157894736      in   50.201.125.84  jmqlhflrzwuay9c  \n",
       "2  9759243157894736      py  112.54.208.157  vasstdc27m7nks3  \n",
       "3  9759243157894736      in   18.99.175.133  vasstdc27m7nks3  \n",
       "4  9759243157894736      in    145.138.5.37  vasstdc27m7nks3  "
      ]
     },
     "execution_count": 444,
     "metadata": {},
     "output_type": "execute_result"
    }
   ],
   "source": [
    "df_bids.head ()"
   ]
  },
  {
   "cell_type": "code",
   "execution_count": 445,
   "id": "48189a37",
   "metadata": {},
   "outputs": [
    {
     "data": {
      "text/html": [
       "<div>\n",
       "<style scoped>\n",
       "    .dataframe tbody tr th:only-of-type {\n",
       "        vertical-align: middle;\n",
       "    }\n",
       "\n",
       "    .dataframe tbody tr th {\n",
       "        vertical-align: top;\n",
       "    }\n",
       "\n",
       "    .dataframe thead th {\n",
       "        text-align: right;\n",
       "    }\n",
       "</style>\n",
       "<table border=\"1\" class=\"dataframe\">\n",
       "  <thead>\n",
       "    <tr style=\"text-align: right;\">\n",
       "      <th></th>\n",
       "      <th>bidder_id</th>\n",
       "      <th>payment_account</th>\n",
       "      <th>address</th>\n",
       "      <th>outcome</th>\n",
       "    </tr>\n",
       "  </thead>\n",
       "  <tbody>\n",
       "    <tr>\n",
       "      <th>0</th>\n",
       "      <td>91a3c57b13234af24875c56fb7e2b2f4rb56a</td>\n",
       "      <td>a3d2de7675556553a5f08e4c88d2c228754av</td>\n",
       "      <td>a3d2de7675556553a5f08e4c88d2c228vt0u4</td>\n",
       "      <td>0.0</td>\n",
       "    </tr>\n",
       "    <tr>\n",
       "      <th>1</th>\n",
       "      <td>624f258b49e77713fc34034560f93fb3hu3jo</td>\n",
       "      <td>a3d2de7675556553a5f08e4c88d2c228v1sga</td>\n",
       "      <td>ae87054e5a97a8f840a3991d12611fdcrfbq3</td>\n",
       "      <td>0.0</td>\n",
       "    </tr>\n",
       "    <tr>\n",
       "      <th>2</th>\n",
       "      <td>1c5f4fc669099bfbfac515cd26997bd12ruaj</td>\n",
       "      <td>a3d2de7675556553a5f08e4c88d2c2280cybl</td>\n",
       "      <td>92520288b50f03907041887884ba49c0cl0pd</td>\n",
       "      <td>0.0</td>\n",
       "    </tr>\n",
       "    <tr>\n",
       "      <th>3</th>\n",
       "      <td>4bee9aba2abda51bf43d639013d6efe12iycd</td>\n",
       "      <td>51d80e233f7b6a7dfdee484a3c120f3b2ita8</td>\n",
       "      <td>4cb9717c8ad7e88a9a284989dd79b98dbevyi</td>\n",
       "      <td>0.0</td>\n",
       "    </tr>\n",
       "    <tr>\n",
       "      <th>4</th>\n",
       "      <td>4ab12bc61c82ddd9c2d65e60555808acqgos1</td>\n",
       "      <td>a3d2de7675556553a5f08e4c88d2c22857ddh</td>\n",
       "      <td>2a96c3ce94b3be921e0296097b88b56a7x1ji</td>\n",
       "      <td>0.0</td>\n",
       "    </tr>\n",
       "  </tbody>\n",
       "</table>\n",
       "</div>"
      ],
      "text/plain": [
       "                               bidder_id  \\\n",
       "0  91a3c57b13234af24875c56fb7e2b2f4rb56a   \n",
       "1  624f258b49e77713fc34034560f93fb3hu3jo   \n",
       "2  1c5f4fc669099bfbfac515cd26997bd12ruaj   \n",
       "3  4bee9aba2abda51bf43d639013d6efe12iycd   \n",
       "4  4ab12bc61c82ddd9c2d65e60555808acqgos1   \n",
       "\n",
       "                         payment_account  \\\n",
       "0  a3d2de7675556553a5f08e4c88d2c228754av   \n",
       "1  a3d2de7675556553a5f08e4c88d2c228v1sga   \n",
       "2  a3d2de7675556553a5f08e4c88d2c2280cybl   \n",
       "3  51d80e233f7b6a7dfdee484a3c120f3b2ita8   \n",
       "4  a3d2de7675556553a5f08e4c88d2c22857ddh   \n",
       "\n",
       "                                 address  outcome  \n",
       "0  a3d2de7675556553a5f08e4c88d2c228vt0u4      0.0  \n",
       "1  ae87054e5a97a8f840a3991d12611fdcrfbq3      0.0  \n",
       "2  92520288b50f03907041887884ba49c0cl0pd      0.0  \n",
       "3  4cb9717c8ad7e88a9a284989dd79b98dbevyi      0.0  \n",
       "4  2a96c3ce94b3be921e0296097b88b56a7x1ji      0.0  "
      ]
     },
     "execution_count": 445,
     "metadata": {},
     "output_type": "execute_result"
    }
   ],
   "source": [
    "df_train.head ()"
   ]
  },
  {
   "cell_type": "code",
   "execution_count": 396,
   "id": "8aa79914",
   "metadata": {},
   "outputs": [
    {
     "data": {
      "text/plain": [
       "6614"
      ]
     },
     "execution_count": 396,
     "metadata": {},
     "output_type": "execute_result"
    }
   ],
   "source": [
    "# We have 6,614 unique bidders\n",
    "len(df_bids ['bidder_id'].unique().tolist())\n",
    "\n"
   ]
  },
  {
   "cell_type": "code",
   "execution_count": 380,
   "id": "19df3ea3",
   "metadata": {},
   "outputs": [
    {
     "data": {
      "text/plain": [
       "2013"
      ]
     },
     "execution_count": 380,
     "metadata": {},
     "output_type": "execute_result"
    }
   ],
   "source": [
    "#Check to see if all bidder_ids in df_train are unique: they are.\n",
    "# This means no bidder was identified sometimes as robot, sometimes as human.\n",
    "len(df_train ['bidder_id'].unique().tolist())\n"
   ]
  },
  {
   "cell_type": "markdown",
   "id": "6718a385",
   "metadata": {},
   "source": [
    "Next I’ll join the bidder outcomes (robot or human to the main bidder data frame).\n",
    "df_train is a subset of the total (it is a training set), so I’ll do an inner join,\n",
    "This will truncate df_bidder by removing unclassified bidders (bidders that are not in df_train), but it is ok, since we are not interested in biders that have not been classified.\n",
    "\n"
   ]
  },
  {
   "cell_type": "code",
   "execution_count": 624,
   "id": "6026e98c",
   "metadata": {},
   "outputs": [
    {
     "name": "stderr",
     "output_type": "stream",
     "text": [
      "/var/folders/r_/cj1mjlpj3hv8g4c245j9z6j80000gn/T/ipykernel_28648/883300981.py:6: FutureWarning: In a future version of pandas all arguments of DataFrame.drop except for the argument 'labels' will be keyword-only.\n",
      "  df_outcomes.drop(df_outcomes.columns.difference(['outcome','country','bid_id']), 1, inplace=True)\n"
     ]
    },
    {
     "data": {
      "text/html": [
       "<div>\n",
       "<style scoped>\n",
       "    .dataframe tbody tr th:only-of-type {\n",
       "        vertical-align: middle;\n",
       "    }\n",
       "\n",
       "    .dataframe tbody tr th {\n",
       "        vertical-align: top;\n",
       "    }\n",
       "\n",
       "    .dataframe thead th {\n",
       "        text-align: right;\n",
       "    }\n",
       "</style>\n",
       "<table border=\"1\" class=\"dataframe\">\n",
       "  <thead>\n",
       "    <tr style=\"text-align: right;\">\n",
       "      <th></th>\n",
       "      <th>outcome</th>\n",
       "      <th>country</th>\n",
       "      <th>bid_id</th>\n",
       "      <th>percentage</th>\n",
       "    </tr>\n",
       "  </thead>\n",
       "  <tbody>\n",
       "    <tr>\n",
       "      <th>0</th>\n",
       "      <td>0.0</td>\n",
       "      <td>ad</td>\n",
       "      <td>10</td>\n",
       "      <td>0.714286</td>\n",
       "    </tr>\n",
       "    <tr>\n",
       "      <th>1</th>\n",
       "      <td>1.0</td>\n",
       "      <td>ad</td>\n",
       "      <td>4</td>\n",
       "      <td>0.285714</td>\n",
       "    </tr>\n",
       "    <tr>\n",
       "      <th>2</th>\n",
       "      <td>0.0</td>\n",
       "      <td>ae</td>\n",
       "      <td>14330</td>\n",
       "      <td>0.914778</td>\n",
       "    </tr>\n",
       "    <tr>\n",
       "      <th>3</th>\n",
       "      <td>1.0</td>\n",
       "      <td>ae</td>\n",
       "      <td>1335</td>\n",
       "      <td>0.085222</td>\n",
       "    </tr>\n",
       "    <tr>\n",
       "      <th>4</th>\n",
       "      <td>0.0</td>\n",
       "      <td>af</td>\n",
       "      <td>1963</td>\n",
       "      <td>0.955231</td>\n",
       "    </tr>\n",
       "    <tr>\n",
       "      <th>...</th>\n",
       "      <td>...</td>\n",
       "      <td>...</td>\n",
       "      <td>...</td>\n",
       "      <td>...</td>\n",
       "    </tr>\n",
       "    <tr>\n",
       "      <th>391</th>\n",
       "      <td>1.0</td>\n",
       "      <td>zm</td>\n",
       "      <td>461</td>\n",
       "      <td>0.029700</td>\n",
       "    </tr>\n",
       "    <tr>\n",
       "      <th>392</th>\n",
       "      <td>0.0</td>\n",
       "      <td>zw</td>\n",
       "      <td>14688</td>\n",
       "      <td>0.984187</td>\n",
       "    </tr>\n",
       "    <tr>\n",
       "      <th>393</th>\n",
       "      <td>1.0</td>\n",
       "      <td>zw</td>\n",
       "      <td>236</td>\n",
       "      <td>0.015813</td>\n",
       "    </tr>\n",
       "    <tr>\n",
       "      <th>394</th>\n",
       "      <td>0.0</td>\n",
       "      <td>zz</td>\n",
       "      <td>3</td>\n",
       "      <td>0.750000</td>\n",
       "    </tr>\n",
       "    <tr>\n",
       "      <th>395</th>\n",
       "      <td>1.0</td>\n",
       "      <td>zz</td>\n",
       "      <td>1</td>\n",
       "      <td>0.250000</td>\n",
       "    </tr>\n",
       "  </tbody>\n",
       "</table>\n",
       "<p>396 rows × 4 columns</p>\n",
       "</div>"
      ],
      "text/plain": [
       "     outcome country  bid_id  percentage\n",
       "0        0.0      ad      10    0.714286\n",
       "1        1.0      ad       4    0.285714\n",
       "2        0.0      ae   14330    0.914778\n",
       "3        1.0      ae    1335    0.085222\n",
       "4        0.0      af    1963    0.955231\n",
       "..       ...     ...     ...         ...\n",
       "391      1.0      zm     461    0.029700\n",
       "392      0.0      zw   14688    0.984187\n",
       "393      1.0      zw     236    0.015813\n",
       "394      0.0      zz       3    0.750000\n",
       "395      1.0      zz       1    0.250000\n",
       "\n",
       "[396 rows x 4 columns]"
      ]
     },
     "execution_count": 624,
     "metadata": {},
     "output_type": "execute_result"
    }
   ],
   "source": [
    "\n",
    "df_outcomes = pd.merge(df_bids, df_train, on='bidder_id', how='inner')\n",
    "\n",
    "#Count all the variables, inserting 0 where the count is 0\n",
    "df_outcomes = df_outcomes.groupby(['country','outcome']).count().unstack(fill_value=0).stack()\n",
    "df_outcomes= df_outcomes.reset_index(level=0)\n",
    "df_outcomes.drop(df_outcomes.columns.difference(['outcome','country','bid_id']), 1, inplace=True)\n",
    "df_outcomes[ 'percentage'] = df_outcomes.groupby('country').apply(lambda x: x / float(x.sum()))\n",
    "df_outcomes= df_outcomes.reset_index()\n",
    "df_outcomes\n",
    "\n",
    "\n"
   ]
  },
  {
   "cell_type": "code",
   "execution_count": 625,
   "id": "c2381408",
   "metadata": {},
   "outputs": [],
   "source": [
    "# Keep only odd-numbered rows, et voilà:\n",
    "l=[]\n",
    "for i in df_outcomes.index.values:\n",
    "    if(i%2==1):\n",
    "        l.append(i)\n",
    "\n",
    "df_outcomes =df_outcomes.iloc [l]\n",
    "df_outcomes= df_outcomes.drop (['outcome','bid_id'], axis=1)"
   ]
  },
  {
   "cell_type": "code",
   "execution_count": 626,
   "id": "8b2387be",
   "metadata": {},
   "outputs": [
    {
     "data": {
      "text/html": [
       "<div>\n",
       "<style scoped>\n",
       "    .dataframe tbody tr th:only-of-type {\n",
       "        vertical-align: middle;\n",
       "    }\n",
       "\n",
       "    .dataframe tbody tr th {\n",
       "        vertical-align: top;\n",
       "    }\n",
       "\n",
       "    .dataframe thead th {\n",
       "        text-align: right;\n",
       "    }\n",
       "</style>\n",
       "<table border=\"1\" class=\"dataframe\">\n",
       "  <thead>\n",
       "    <tr style=\"text-align: right;\">\n",
       "      <th></th>\n",
       "      <th>country</th>\n",
       "      <th>percentage</th>\n",
       "    </tr>\n",
       "  </thead>\n",
       "  <tbody>\n",
       "    <tr>\n",
       "      <th>1</th>\n",
       "      <td>ad</td>\n",
       "      <td>0.285714</td>\n",
       "    </tr>\n",
       "    <tr>\n",
       "      <th>3</th>\n",
       "      <td>ae</td>\n",
       "      <td>0.085222</td>\n",
       "    </tr>\n",
       "    <tr>\n",
       "      <th>5</th>\n",
       "      <td>af</td>\n",
       "      <td>0.044769</td>\n",
       "    </tr>\n",
       "    <tr>\n",
       "      <th>7</th>\n",
       "      <td>ag</td>\n",
       "      <td>0.666667</td>\n",
       "    </tr>\n",
       "    <tr>\n",
       "      <th>9</th>\n",
       "      <td>al</td>\n",
       "      <td>0.022230</td>\n",
       "    </tr>\n",
       "    <tr>\n",
       "      <th>...</th>\n",
       "      <td>...</td>\n",
       "      <td>...</td>\n",
       "    </tr>\n",
       "    <tr>\n",
       "      <th>387</th>\n",
       "      <td>ye</td>\n",
       "      <td>0.109170</td>\n",
       "    </tr>\n",
       "    <tr>\n",
       "      <th>389</th>\n",
       "      <td>za</td>\n",
       "      <td>0.086032</td>\n",
       "    </tr>\n",
       "    <tr>\n",
       "      <th>391</th>\n",
       "      <td>zm</td>\n",
       "      <td>0.029700</td>\n",
       "    </tr>\n",
       "    <tr>\n",
       "      <th>393</th>\n",
       "      <td>zw</td>\n",
       "      <td>0.015813</td>\n",
       "    </tr>\n",
       "    <tr>\n",
       "      <th>395</th>\n",
       "      <td>zz</td>\n",
       "      <td>0.250000</td>\n",
       "    </tr>\n",
       "  </tbody>\n",
       "</table>\n",
       "<p>198 rows × 2 columns</p>\n",
       "</div>"
      ],
      "text/plain": [
       "    country  percentage\n",
       "1        ad    0.285714\n",
       "3        ae    0.085222\n",
       "5        af    0.044769\n",
       "7        ag    0.666667\n",
       "9        al    0.022230\n",
       "..      ...         ...\n",
       "387      ye    0.109170\n",
       "389      za    0.086032\n",
       "391      zm    0.029700\n",
       "393      zw    0.015813\n",
       "395      zz    0.250000\n",
       "\n",
       "[198 rows x 2 columns]"
      ]
     },
     "execution_count": 626,
     "metadata": {},
     "output_type": "execute_result"
    }
   ],
   "source": [
    "df_outcomes"
   ]
  },
  {
   "cell_type": "code",
   "execution_count": 619,
   "id": "77266c4c",
   "metadata": {},
   "outputs": [],
   "source": [
    "new_column_names = [ 'country', 'fraction of bids from robots']\n",
    "df_outcomes.to_csv ('robot_fraction.csv',  header=new_column_names, index = False)"
   ]
  },
  {
   "cell_type": "code",
   "execution_count": null,
   "id": "4b8239aa",
   "metadata": {},
   "outputs": [],
   "source": []
  }
 ],
 "metadata": {
  "kernelspec": {
   "display_name": "Python 3 (ipykernel)",
   "language": "python",
   "name": "python3"
  },
  "language_info": {
   "codemirror_mode": {
    "name": "ipython",
    "version": 3
   },
   "file_extension": ".py",
   "mimetype": "text/x-python",
   "name": "python",
   "nbconvert_exporter": "python",
   "pygments_lexer": "ipython3",
   "version": "3.10.4"
  }
 },
 "nbformat": 4,
 "nbformat_minor": 5
}
