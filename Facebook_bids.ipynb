{
 "cells": [
  {
   "cell_type": "code",
   "execution_count": 2,
   "id": "f661a2f2",
   "metadata": {},
   "outputs": [],
   "source": [
    "import pandas as pd\n",
    "import matplotlib.pyplot as plt\n",
    "import seaborn as sns"
   ]
  },
  {
   "cell_type": "code",
   "execution_count": 101,
   "id": "2240ee64",
   "metadata": {},
   "outputs": [],
   "source": [
    "df_bids = pd.read_csv('/Users/hazemeseifan/Library/Mobile Documents/com~apple~CloudDocs/Work/facebook-recruiting-iv-human-or-bot/bids.csv')\n",
    "train_df = pd.read_csv('/Users/hazemeseifan/Library/Mobile Documents/com~apple~CloudDocs/Work/facebook-recruiting-iv-human-or-bot/train.csv')"
   ]
  },
  {
   "cell_type": "code",
   "execution_count": 255,
   "id": "724e43fe",
   "metadata": {},
   "outputs": [
    {
     "data": {
      "text/html": [
       "<div>\n",
       "<style scoped>\n",
       "    .dataframe tbody tr th:only-of-type {\n",
       "        vertical-align: middle;\n",
       "    }\n",
       "\n",
       "    .dataframe tbody tr th {\n",
       "        vertical-align: top;\n",
       "    }\n",
       "\n",
       "    .dataframe thead th {\n",
       "        text-align: right;\n",
       "    }\n",
       "</style>\n",
       "<table border=\"1\" class=\"dataframe\">\n",
       "  <thead>\n",
       "    <tr style=\"text-align: right;\">\n",
       "      <th></th>\n",
       "      <th>bid_id</th>\n",
       "      <th>bidder_id</th>\n",
       "      <th>auction</th>\n",
       "      <th>merchandise</th>\n",
       "      <th>device</th>\n",
       "      <th>time</th>\n",
       "      <th>country</th>\n",
       "      <th>ip</th>\n",
       "      <th>url</th>\n",
       "    </tr>\n",
       "  </thead>\n",
       "  <tbody>\n",
       "    <tr>\n",
       "      <th>0</th>\n",
       "      <td>0</td>\n",
       "      <td>8dac2b259fd1c6d1120e519fb1ac14fbqvax8</td>\n",
       "      <td>ewmzr</td>\n",
       "      <td>jewelry</td>\n",
       "      <td>phone0</td>\n",
       "      <td>9759243157894736</td>\n",
       "      <td>us</td>\n",
       "      <td>69.166.231.58</td>\n",
       "      <td>vasstdc27m7nks3</td>\n",
       "    </tr>\n",
       "    <tr>\n",
       "      <th>1</th>\n",
       "      <td>1</td>\n",
       "      <td>668d393e858e8126275433046bbd35c6tywop</td>\n",
       "      <td>aeqok</td>\n",
       "      <td>furniture</td>\n",
       "      <td>phone1</td>\n",
       "      <td>9759243157894736</td>\n",
       "      <td>in</td>\n",
       "      <td>50.201.125.84</td>\n",
       "      <td>jmqlhflrzwuay9c</td>\n",
       "    </tr>\n",
       "    <tr>\n",
       "      <th>2</th>\n",
       "      <td>2</td>\n",
       "      <td>aa5f360084278b35d746fa6af3a7a1a5ra3xe</td>\n",
       "      <td>wa00e</td>\n",
       "      <td>home goods</td>\n",
       "      <td>phone2</td>\n",
       "      <td>9759243157894736</td>\n",
       "      <td>py</td>\n",
       "      <td>112.54.208.157</td>\n",
       "      <td>vasstdc27m7nks3</td>\n",
       "    </tr>\n",
       "    <tr>\n",
       "      <th>3</th>\n",
       "      <td>3</td>\n",
       "      <td>3939ac3ef7d472a59a9c5f893dd3e39fh9ofi</td>\n",
       "      <td>jefix</td>\n",
       "      <td>jewelry</td>\n",
       "      <td>phone4</td>\n",
       "      <td>9759243157894736</td>\n",
       "      <td>in</td>\n",
       "      <td>18.99.175.133</td>\n",
       "      <td>vasstdc27m7nks3</td>\n",
       "    </tr>\n",
       "    <tr>\n",
       "      <th>4</th>\n",
       "      <td>4</td>\n",
       "      <td>8393c48eaf4b8fa96886edc7cf27b372dsibi</td>\n",
       "      <td>jefix</td>\n",
       "      <td>jewelry</td>\n",
       "      <td>phone5</td>\n",
       "      <td>9759243157894736</td>\n",
       "      <td>in</td>\n",
       "      <td>145.138.5.37</td>\n",
       "      <td>vasstdc27m7nks3</td>\n",
       "    </tr>\n",
       "  </tbody>\n",
       "</table>\n",
       "</div>"
      ],
      "text/plain": [
       "   bid_id                              bidder_id auction merchandise  device  \\\n",
       "0       0  8dac2b259fd1c6d1120e519fb1ac14fbqvax8   ewmzr     jewelry  phone0   \n",
       "1       1  668d393e858e8126275433046bbd35c6tywop   aeqok   furniture  phone1   \n",
       "2       2  aa5f360084278b35d746fa6af3a7a1a5ra3xe   wa00e  home goods  phone2   \n",
       "3       3  3939ac3ef7d472a59a9c5f893dd3e39fh9ofi   jefix     jewelry  phone4   \n",
       "4       4  8393c48eaf4b8fa96886edc7cf27b372dsibi   jefix     jewelry  phone5   \n",
       "\n",
       "               time country              ip              url  \n",
       "0  9759243157894736      us   69.166.231.58  vasstdc27m7nks3  \n",
       "1  9759243157894736      in   50.201.125.84  jmqlhflrzwuay9c  \n",
       "2  9759243157894736      py  112.54.208.157  vasstdc27m7nks3  \n",
       "3  9759243157894736      in   18.99.175.133  vasstdc27m7nks3  \n",
       "4  9759243157894736      in    145.138.5.37  vasstdc27m7nks3  "
      ]
     },
     "execution_count": 255,
     "metadata": {},
     "output_type": "execute_result"
    }
   ],
   "source": [
    "df_bids.head ()"
   ]
  },
  {
   "cell_type": "code",
   "execution_count": 119,
   "id": "5f48fa06",
   "metadata": {},
   "outputs": [
    {
     "name": "stdout",
     "output_type": "stream",
     "text": [
      "bid_id\n",
      "bidder_id\n",
      "auction\n",
      "merchandise\n",
      "device\n",
      "time\n",
      "country\n",
      "ip\n",
      "url\n"
     ]
    }
   ],
   "source": [
    "for col in df_bids.columns:\n",
    "    print(col)"
   ]
  },
  {
   "cell_type": "markdown",
   "id": "94d7a47e",
   "metadata": {},
   "source": [
    "## Question 1:\n",
    "### For each auction, the number of unique ip addresses"
   ]
  },
  {
   "cell_type": "code",
   "execution_count": 239,
   "id": "97e35e6f",
   "metadata": {},
   "outputs": [],
   "source": [
    "unique_ips= df_bids.groupby ('auction') ['ip'].nunique()\n",
    "new_column_names = [ 'No. unique IPs']\n",
    "unique_ips.to_csv ('uniqueIps.csv',  header=new_column_names)"
   ]
  },
  {
   "cell_type": "markdown",
   "id": "1068ea8a",
   "metadata": {},
   "source": [
    "# "
   ]
  },
  {
   "cell_type": "markdown",
   "id": "0cad68b6",
   "metadata": {},
   "source": [
    "***"
   ]
  },
  {
   "cell_type": "markdown",
   "id": "e9b82140",
   "metadata": {},
   "source": [
    "## Question 2:\n",
    "\n",
    "### For each merchandise type, the country which sent the maximum number of bids (in the csv, include also the number of bids sent by that country)"
   ]
  },
  {
   "cell_type": "code",
   "execution_count": 303,
   "id": "2e6e2844",
   "metadata": {},
   "outputs": [
    {
     "data": {
      "text/html": [
       "<div>\n",
       "<style scoped>\n",
       "    .dataframe tbody tr th:only-of-type {\n",
       "        vertical-align: middle;\n",
       "    }\n",
       "\n",
       "    .dataframe tbody tr th {\n",
       "        vertical-align: top;\n",
       "    }\n",
       "\n",
       "    .dataframe thead th {\n",
       "        text-align: right;\n",
       "    }\n",
       "</style>\n",
       "<table border=\"1\" class=\"dataframe\">\n",
       "  <thead>\n",
       "    <tr style=\"text-align: right;\">\n",
       "      <th></th>\n",
       "      <th>merchandise</th>\n",
       "      <th>country</th>\n",
       "      <th>bid_id</th>\n",
       "    </tr>\n",
       "  </thead>\n",
       "  <tbody>\n",
       "    <tr>\n",
       "      <th>0</th>\n",
       "      <td>auto parts</td>\n",
       "      <td>ae</td>\n",
       "      <td>1</td>\n",
       "    </tr>\n",
       "    <tr>\n",
       "      <th>1</th>\n",
       "      <td>auto parts</td>\n",
       "      <td>au</td>\n",
       "      <td>1</td>\n",
       "    </tr>\n",
       "    <tr>\n",
       "      <th>2</th>\n",
       "      <td>auto parts</td>\n",
       "      <td>bd</td>\n",
       "      <td>503</td>\n",
       "    </tr>\n",
       "    <tr>\n",
       "      <th>3</th>\n",
       "      <td>auto parts</td>\n",
       "      <td>bn</td>\n",
       "      <td>21</td>\n",
       "    </tr>\n",
       "    <tr>\n",
       "      <th>4</th>\n",
       "      <td>auto parts</td>\n",
       "      <td>ca</td>\n",
       "      <td>89</td>\n",
       "    </tr>\n",
       "    <tr>\n",
       "      <th>...</th>\n",
       "      <td>...</td>\n",
       "      <td>...</td>\n",
       "      <td>...</td>\n",
       "    </tr>\n",
       "    <tr>\n",
       "      <th>1519</th>\n",
       "      <td>sporting goods</td>\n",
       "      <td>ye</td>\n",
       "      <td>82</td>\n",
       "    </tr>\n",
       "    <tr>\n",
       "      <th>1520</th>\n",
       "      <td>sporting goods</td>\n",
       "      <td>za</td>\n",
       "      <td>118915</td>\n",
       "    </tr>\n",
       "    <tr>\n",
       "      <th>1521</th>\n",
       "      <td>sporting goods</td>\n",
       "      <td>zm</td>\n",
       "      <td>12943</td>\n",
       "    </tr>\n",
       "    <tr>\n",
       "      <th>1522</th>\n",
       "      <td>sporting goods</td>\n",
       "      <td>zw</td>\n",
       "      <td>12654</td>\n",
       "    </tr>\n",
       "    <tr>\n",
       "      <th>1523</th>\n",
       "      <td>sporting goods</td>\n",
       "      <td>zz</td>\n",
       "      <td>2</td>\n",
       "    </tr>\n",
       "  </tbody>\n",
       "</table>\n",
       "<p>1524 rows × 3 columns</p>\n",
       "</div>"
      ],
      "text/plain": [
       "         merchandise country  bid_id\n",
       "0         auto parts      ae       1\n",
       "1         auto parts      au       1\n",
       "2         auto parts      bd     503\n",
       "3         auto parts      bn      21\n",
       "4         auto parts      ca      89\n",
       "...              ...     ...     ...\n",
       "1519  sporting goods      ye      82\n",
       "1520  sporting goods      za  118915\n",
       "1521  sporting goods      zm   12943\n",
       "1522  sporting goods      zw   12654\n",
       "1523  sporting goods      zz       2\n",
       "\n",
       "[1524 rows x 3 columns]"
      ]
     },
     "execution_count": 303,
     "metadata": {},
     "output_type": "execute_result"
    }
   ],
   "source": [
    "merch = df_bids.groupby(['merchandise', 'country'], as_index= False).agg ({'bid_id': 'count'})\n",
    "\n",
    "merch"
   ]
  },
  {
   "cell_type": "code",
   "execution_count": 304,
   "id": "948d274d",
   "metadata": {},
   "outputs": [
    {
     "data": {
      "text/html": [
       "<div>\n",
       "<style scoped>\n",
       "    .dataframe tbody tr th:only-of-type {\n",
       "        vertical-align: middle;\n",
       "    }\n",
       "\n",
       "    .dataframe tbody tr th {\n",
       "        vertical-align: top;\n",
       "    }\n",
       "\n",
       "    .dataframe thead th {\n",
       "        text-align: right;\n",
       "    }\n",
       "</style>\n",
       "<table border=\"1\" class=\"dataframe\">\n",
       "  <thead>\n",
       "    <tr style=\"text-align: right;\">\n",
       "      <th></th>\n",
       "      <th>merchandise</th>\n",
       "      <th>country</th>\n",
       "      <th>bid_id</th>\n",
       "    </tr>\n",
       "  </thead>\n",
       "  <tbody>\n",
       "    <tr>\n",
       "      <th>14</th>\n",
       "      <td>auto parts</td>\n",
       "      <td>in</td>\n",
       "      <td>2243</td>\n",
       "    </tr>\n",
       "    <tr>\n",
       "      <th>101</th>\n",
       "      <td>books and music</td>\n",
       "      <td>in</td>\n",
       "      <td>11820</td>\n",
       "    </tr>\n",
       "    <tr>\n",
       "      <th>230</th>\n",
       "      <td>clothing</td>\n",
       "      <td>in</td>\n",
       "      <td>7619</td>\n",
       "    </tr>\n",
       "    <tr>\n",
       "      <th>411</th>\n",
       "      <td>computers</td>\n",
       "      <td>th</td>\n",
       "      <td>16731</td>\n",
       "    </tr>\n",
       "    <tr>\n",
       "      <th>495</th>\n",
       "      <td>furniture</td>\n",
       "      <td>in</td>\n",
       "      <td>47031</td>\n",
       "    </tr>\n",
       "    <tr>\n",
       "      <th>675</th>\n",
       "      <td>home goods</td>\n",
       "      <td>in</td>\n",
       "      <td>169649</td>\n",
       "    </tr>\n",
       "    <tr>\n",
       "      <th>861</th>\n",
       "      <td>jewelry</td>\n",
       "      <td>in</td>\n",
       "      <td>560773</td>\n",
       "    </tr>\n",
       "    <tr>\n",
       "      <th>1050</th>\n",
       "      <td>mobile</td>\n",
       "      <td>in</td>\n",
       "      <td>578076</td>\n",
       "    </tr>\n",
       "    <tr>\n",
       "      <th>1225</th>\n",
       "      <td>office equipment</td>\n",
       "      <td>in</td>\n",
       "      <td>56140</td>\n",
       "    </tr>\n",
       "    <tr>\n",
       "      <th>1411</th>\n",
       "      <td>sporting goods</td>\n",
       "      <td>in</td>\n",
       "      <td>346852</td>\n",
       "    </tr>\n",
       "  </tbody>\n",
       "</table>\n",
       "</div>"
      ],
      "text/plain": [
       "           merchandise country  bid_id\n",
       "14          auto parts      in    2243\n",
       "101    books and music      in   11820\n",
       "230           clothing      in    7619\n",
       "411          computers      th   16731\n",
       "495          furniture      in   47031\n",
       "675         home goods      in  169649\n",
       "861            jewelry      in  560773\n",
       "1050            mobile      in  578076\n",
       "1225  office equipment      in   56140\n",
       "1411    sporting goods      in  346852"
      ]
     },
     "execution_count": 304,
     "metadata": {},
     "output_type": "execute_result"
    }
   ],
   "source": [
    "merch=merch.loc[merch.reset_index().groupby(['merchandise'])['bid_id'].idxmax()]\n",
    "\n",
    "merch"
   ]
  },
  {
   "cell_type": "code",
   "execution_count": 249,
   "id": "a22ac59a",
   "metadata": {},
   "outputs": [],
   "source": [
    "new_column_names = [ 'Merch type', 'Country with max bids', 'no. of bids']\n",
    "merch.to_csv ('bids_per_merch_type.csv',  header=new_column_names, index = False)"
   ]
  },
  {
   "cell_type": "markdown",
   "id": "c792efc3",
   "metadata": {},
   "source": [
    "# "
   ]
  },
  {
   "cell_type": "markdown",
   "id": "1fe798c5",
   "metadata": {},
   "source": [
    "***"
   ]
  },
  {
   "cell_type": "markdown",
   "id": "d6f75c80",
   "metadata": {},
   "source": [
    "## Question 3:\n",
    "\n",
    "### The data contains three separate time periods.  Calculate average number of unique bidders per auction in each of the three separate time periods"
   ]
  },
  {
   "cell_type": "markdown",
   "id": "f3fb8348",
   "metadata": {},
   "source": [
    "To visualise the time periods, we'll draw some scatter plots."
   ]
  },
  {
   "cell_type": "code",
   "execution_count": 253,
   "id": "8fe1c9f0",
   "metadata": {},
   "outputs": [
    {
     "data": {
      "text/plain": [
       "<seaborn.axisgrid.PairGrid at 0x1884fd210>"
      ]
     },
     "execution_count": 253,
     "metadata": {},
     "output_type": "execute_result"
    },
    {
     "data": {
      "image/png": "[encoded data removed]",
      "text/plain": [
       "<Figure size 360x360 with 4 Axes>"
      ]
     },
     "metadata": {
      "needs_background": "light"
     },
     "output_type": "display_data"
    }
   ],
   "source": [
    "g = sns.PairGrid(df_bids)\n",
    "g.map(sns.scatterplot)"
   ]
  },
  {
   "cell_type": "code",
   "execution_count": 254,
   "id": "f887f8c2",
   "metadata": {},
   "outputs": [
    {
     "data": {
      "text/plain": [
       "<AxesSubplot:xlabel='time', ylabel='time'>"
      ]
     },
     "execution_count": 254,
     "metadata": {},
     "output_type": "execute_result"
    },
    {
     "data": {
      "image/png": "[encoded data removed]",
      "text/plain": [
       "<Figure size 432x288 with 1 Axes>"
      ]
     },
     "metadata": {
      "needs_background": "light"
     },
     "output_type": "display_data"
    }
   ],
   "source": [
    "df_bids.plot (kind = 'scatter', x = 'time', y = 'time')"
   ]
  },
  {
   "cell_type": "markdown",
   "id": "7fdedd3f",
   "metadata": {},
   "source": [
    "We can clarly see the three periods here.  I’ll group them under:\n",
    "1. \"period_1\" from 0 to 9680000000000000\n",
    "2. \"period_2\" from 9680000000000000 to 9740000000000000\n",
    "3. \"period_3 above 9740000000000000\n",
    "\n",
    "I’ll then add these time perids as a column the DF ang group by it.\n"
   ]
  },
  {
   "cell_type": "code",
   "execution_count": 259,
   "id": "cc9dd552",
   "metadata": {},
   "outputs": [],
   "source": [
    "def time_period (row):\n",
    "    if 0< row['time']< 9680000000000000 :\n",
    "      return 'period_1'\n",
    "    if 9680000000000000< row['time']<  9740000000000000:\n",
    "      return 'period_2'\n",
    "    if 9740000000000000< row['time'] :\n",
    "     return 'period_3'\n",
    "    return "
   ]
  },
  {
   "cell_type": "code",
   "execution_count": 263,
   "id": "cc210d15",
   "metadata": {},
   "outputs": [],
   "source": [
    "df_bids ['time_period'] = df_bids.apply (lambda row: time_period (row), axis=1)\n"
   ]
  },
  {
   "cell_type": "code",
   "execution_count": 300,
   "id": "f431de79",
   "metadata": {},
   "outputs": [
    {
     "data": {
      "text/html": [
       "<div>\n",
       "<style scoped>\n",
       "    .dataframe tbody tr th:only-of-type {\n",
       "        vertical-align: middle;\n",
       "    }\n",
       "\n",
       "    .dataframe tbody tr th {\n",
       "        vertical-align: top;\n",
       "    }\n",
       "\n",
       "    .dataframe thead th {\n",
       "        text-align: right;\n",
       "    }\n",
       "</style>\n",
       "<table border=\"1\" class=\"dataframe\">\n",
       "  <thead>\n",
       "    <tr style=\"text-align: right;\">\n",
       "      <th></th>\n",
       "      <th>time_period</th>\n",
       "      <th>auction</th>\n",
       "      <th>bidder_id</th>\n",
       "    </tr>\n",
       "  </thead>\n",
       "  <tbody>\n",
       "    <tr>\n",
       "      <th>0</th>\n",
       "      <td>period_1</td>\n",
       "      <td>00hm5</td>\n",
       "      <td>6</td>\n",
       "    </tr>\n",
       "    <tr>\n",
       "      <th>1</th>\n",
       "      <td>period_1</td>\n",
       "      <td>00sj9</td>\n",
       "      <td>2</td>\n",
       "    </tr>\n",
       "    <tr>\n",
       "      <th>2</th>\n",
       "      <td>period_1</td>\n",
       "      <td>010lx</td>\n",
       "      <td>51</td>\n",
       "    </tr>\n",
       "    <tr>\n",
       "      <th>3</th>\n",
       "      <td>period_1</td>\n",
       "      <td>0143v</td>\n",
       "      <td>10</td>\n",
       "    </tr>\n",
       "    <tr>\n",
       "      <th>4</th>\n",
       "      <td>period_1</td>\n",
       "      <td>01dgm</td>\n",
       "      <td>9</td>\n",
       "    </tr>\n",
       "    <tr>\n",
       "      <th>...</th>\n",
       "      <td>...</td>\n",
       "      <td>...</td>\n",
       "      <td>...</td>\n",
       "    </tr>\n",
       "    <tr>\n",
       "      <th>19006</th>\n",
       "      <td>period_3</td>\n",
       "      <td>zzal8</td>\n",
       "      <td>12</td>\n",
       "    </tr>\n",
       "    <tr>\n",
       "      <th>19007</th>\n",
       "      <td>period_3</td>\n",
       "      <td>zzbm9</td>\n",
       "      <td>1</td>\n",
       "    </tr>\n",
       "    <tr>\n",
       "      <th>19008</th>\n",
       "      <td>period_3</td>\n",
       "      <td>zznnc</td>\n",
       "      <td>1</td>\n",
       "    </tr>\n",
       "    <tr>\n",
       "      <th>19009</th>\n",
       "      <td>period_3</td>\n",
       "      <td>zztha</td>\n",
       "      <td>2</td>\n",
       "    </tr>\n",
       "    <tr>\n",
       "      <th>19010</th>\n",
       "      <td>period_3</td>\n",
       "      <td>zzzlx</td>\n",
       "      <td>228</td>\n",
       "    </tr>\n",
       "  </tbody>\n",
       "</table>\n",
       "<p>19011 rows × 3 columns</p>\n",
       "</div>"
      ],
      "text/plain": [
       "      time_period auction  bidder_id\n",
       "0        period_1   00hm5          6\n",
       "1        period_1   00sj9          2\n",
       "2        period_1   010lx         51\n",
       "3        period_1   0143v         10\n",
       "4        period_1   01dgm          9\n",
       "...           ...     ...        ...\n",
       "19006    period_3   zzal8         12\n",
       "19007    period_3   zzbm9          1\n",
       "19008    period_3   zznnc          1\n",
       "19009    period_3   zztha          2\n",
       "19010    period_3   zzzlx        228\n",
       "\n",
       "[19011 rows x 3 columns]"
      ]
     },
     "execution_count": 300,
     "metadata": {},
     "output_type": "execute_result"
    }
   ],
   "source": [
    "\n",
    "periods= df_bids.groupby (['time_period', 'auction'], as_index= False).agg ({'bidder_id':'nunique'}) \n",
    "periods"
   ]
  },
  {
   "cell_type": "code",
   "execution_count": 301,
   "id": "8b71c8d8",
   "metadata": {},
   "outputs": [
    {
     "data": {
      "text/html": [
       "<div>\n",
       "<style scoped>\n",
       "    .dataframe tbody tr th:only-of-type {\n",
       "        vertical-align: middle;\n",
       "    }\n",
       "\n",
       "    .dataframe tbody tr th {\n",
       "        vertical-align: top;\n",
       "    }\n",
       "\n",
       "    .dataframe thead th {\n",
       "        text-align: right;\n",
       "    }\n",
       "</style>\n",
       "<table border=\"1\" class=\"dataframe\">\n",
       "  <thead>\n",
       "    <tr style=\"text-align: right;\">\n",
       "      <th></th>\n",
       "      <th>time_period</th>\n",
       "      <th>bidder_id</th>\n",
       "    </tr>\n",
       "  </thead>\n",
       "  <tbody>\n",
       "    <tr>\n",
       "      <th>0</th>\n",
       "      <td>period_1</td>\n",
       "      <td>23.316925</td>\n",
       "    </tr>\n",
       "    <tr>\n",
       "      <th>1</th>\n",
       "      <td>period_2</td>\n",
       "      <td>22.509774</td>\n",
       "    </tr>\n",
       "    <tr>\n",
       "      <th>2</th>\n",
       "      <td>period_3</td>\n",
       "      <td>21.280234</td>\n",
       "    </tr>\n",
       "  </tbody>\n",
       "</table>\n",
       "</div>"
      ],
      "text/plain": [
       "  time_period  bidder_id\n",
       "0    period_1  23.316925\n",
       "1    period_2  22.509774\n",
       "2    period_3  21.280234"
      ]
     },
     "execution_count": 301,
     "metadata": {},
     "output_type": "execute_result"
    }
   ],
   "source": [
    "periods= periods.groupby (('time_period'), as_index= False).agg ({'bidder_id':'mean'}) \n",
    "\n",
    "periods"
   ]
  },
  {
   "cell_type": "code",
   "execution_count": 302,
   "id": "801f6493",
   "metadata": {},
   "outputs": [],
   "source": [
    "new_column_names = [ 'Period', 'average unique bidders per bid']\n",
    "periods.to_csv ('periods.csv',  header=new_column_names, index = False)"
   ]
  },
  {
   "cell_type": "markdown",
   "id": "1c48ec31",
   "metadata": {},
   "source": [
    "# "
   ]
  },
  {
   "cell_type": "markdown",
   "id": "0ada7ef2",
   "metadata": {},
   "source": [
    "***"
   ]
  },
  {
   "cell_type": "markdown",
   "id": "6ffbc756",
   "metadata": {},
   "source": [
    "# Question 4:\n",
    "### For each country, the fraction of times a bid from that country was identified as coming from a robot"
   ]
  },
  {
   "cell_type": "markdown",
   "id": "c9640b48",
   "metadata": {},
   "source": [
    "Note: it is not exactly clear to me what you mean by \"the fraction of times\".  Do you mean the fraction of bids that came from robots?  Or the duration during which bids came from robots? Or the time difference between bids from robots?  I took the first hypothesis, it seemed the most likley to me. "
   ]
  },
  {
   "cell_type": "code",
   "execution_count": 739,
   "id": "55534c01",
   "metadata": {},
   "outputs": [],
   "source": [
    "df_bids = pd.read_csv('/Users/hazemeseifan/Library/Mobile Documents/com~apple~CloudDocs/Work/facebook-recruiting-iv-human-or-bot/bids.csv')\n",
    "df_train = pd.read_csv('/Users/hazemeseifan/Library/Mobile Documents/com~apple~CloudDocs/Work/facebook-recruiting-iv-human-or-bot/train.csv')"
   ]
  },
  {
   "cell_type": "code",
   "execution_count": 740,
   "id": "8a4bd1a0",
   "metadata": {},
   "outputs": [
    {
     "data": {
      "text/html": [
       "<div>\n",
       "<style scoped>\n",
       "    .dataframe tbody tr th:only-of-type {\n",
       "        vertical-align: middle;\n",
       "    }\n",
       "\n",
       "    .dataframe tbody tr th {\n",
       "        vertical-align: top;\n",
       "    }\n",
       "\n",
       "    .dataframe thead th {\n",
       "        text-align: right;\n",
       "    }\n",
       "</style>\n",
       "<table border=\"1\" class=\"dataframe\">\n",
       "  <thead>\n",
       "    <tr style=\"text-align: right;\">\n",
       "      <th></th>\n",
       "      <th>bid_id</th>\n",
       "      <th>bidder_id</th>\n",
       "      <th>auction</th>\n",
       "      <th>merchandise</th>\n",
       "      <th>device</th>\n",
       "      <th>time</th>\n",
       "      <th>country</th>\n",
       "      <th>ip</th>\n",
       "      <th>url</th>\n",
       "    </tr>\n",
       "  </thead>\n",
       "  <tbody>\n",
       "    <tr>\n",
       "      <th>0</th>\n",
       "      <td>0</td>\n",
       "      <td>8dac2b259fd1c6d1120e519fb1ac14fbqvax8</td>\n",
       "      <td>ewmzr</td>\n",
       "      <td>jewelry</td>\n",
       "      <td>phone0</td>\n",
       "      <td>9759243157894736</td>\n",
       "      <td>us</td>\n",
       "      <td>69.166.231.58</td>\n",
       "      <td>vasstdc27m7nks3</td>\n",
       "    </tr>\n",
       "    <tr>\n",
       "      <th>1</th>\n",
       "      <td>1</td>\n",
       "      <td>668d393e858e8126275433046bbd35c6tywop</td>\n",
       "      <td>aeqok</td>\n",
       "      <td>furniture</td>\n",
       "      <td>phone1</td>\n",
       "      <td>9759243157894736</td>\n",
       "      <td>in</td>\n",
       "      <td>50.201.125.84</td>\n",
       "      <td>jmqlhflrzwuay9c</td>\n",
       "    </tr>\n",
       "    <tr>\n",
       "      <th>2</th>\n",
       "      <td>2</td>\n",
       "      <td>aa5f360084278b35d746fa6af3a7a1a5ra3xe</td>\n",
       "      <td>wa00e</td>\n",
       "      <td>home goods</td>\n",
       "      <td>phone2</td>\n",
       "      <td>9759243157894736</td>\n",
       "      <td>py</td>\n",
       "      <td>112.54.208.157</td>\n",
       "      <td>vasstdc27m7nks3</td>\n",
       "    </tr>\n",
       "    <tr>\n",
       "      <th>3</th>\n",
       "      <td>3</td>\n",
       "      <td>3939ac3ef7d472a59a9c5f893dd3e39fh9ofi</td>\n",
       "      <td>jefix</td>\n",
       "      <td>jewelry</td>\n",
       "      <td>phone4</td>\n",
       "      <td>9759243157894736</td>\n",
       "      <td>in</td>\n",
       "      <td>18.99.175.133</td>\n",
       "      <td>vasstdc27m7nks3</td>\n",
       "    </tr>\n",
       "    <tr>\n",
       "      <th>4</th>\n",
       "      <td>4</td>\n",
       "      <td>8393c48eaf4b8fa96886edc7cf27b372dsibi</td>\n",
       "      <td>jefix</td>\n",
       "      <td>jewelry</td>\n",
       "      <td>phone5</td>\n",
       "      <td>9759243157894736</td>\n",
       "      <td>in</td>\n",
       "      <td>145.138.5.37</td>\n",
       "      <td>vasstdc27m7nks3</td>\n",
       "    </tr>\n",
       "  </tbody>\n",
       "</table>\n",
       "</div>"
      ],
      "text/plain": [
       "   bid_id                              bidder_id auction merchandise  device  \\\n",
       "0       0  8dac2b259fd1c6d1120e519fb1ac14fbqvax8   ewmzr     jewelry  phone0   \n",
       "1       1  668d393e858e8126275433046bbd35c6tywop   aeqok   furniture  phone1   \n",
       "2       2  aa5f360084278b35d746fa6af3a7a1a5ra3xe   wa00e  home goods  phone2   \n",
       "3       3  3939ac3ef7d472a59a9c5f893dd3e39fh9ofi   jefix     jewelry  phone4   \n",
       "4       4  8393c48eaf4b8fa96886edc7cf27b372dsibi   jefix     jewelry  phone5   \n",
       "\n",
       "               time country              ip              url  \n",
       "0  9759243157894736      us   69.166.231.58  vasstdc27m7nks3  \n",
       "1  9759243157894736      in   50.201.125.84  jmqlhflrzwuay9c  \n",
       "2  9759243157894736      py  112.54.208.157  vasstdc27m7nks3  \n",
       "3  9759243157894736      in   18.99.175.133  vasstdc27m7nks3  \n",
       "4  9759243157894736      in    145.138.5.37  vasstdc27m7nks3  "
      ]
     },
     "execution_count": 740,
     "metadata": {},
     "output_type": "execute_result"
    }
   ],
   "source": [
    "df_bids.head ()"
   ]
  },
  {
   "cell_type": "code",
   "execution_count": 741,
   "id": "84c62fed",
   "metadata": {},
   "outputs": [
    {
     "data": {
      "text/html": [
       "<div>\n",
       "<style scoped>\n",
       "    .dataframe tbody tr th:only-of-type {\n",
       "        vertical-align: middle;\n",
       "    }\n",
       "\n",
       "    .dataframe tbody tr th {\n",
       "        vertical-align: top;\n",
       "    }\n",
       "\n",
       "    .dataframe thead th {\n",
       "        text-align: right;\n",
       "    }\n",
       "</style>\n",
       "<table border=\"1\" class=\"dataframe\">\n",
       "  <thead>\n",
       "    <tr style=\"text-align: right;\">\n",
       "      <th></th>\n",
       "      <th>bidder_id</th>\n",
       "      <th>payment_account</th>\n",
       "      <th>address</th>\n",
       "      <th>outcome</th>\n",
       "    </tr>\n",
       "  </thead>\n",
       "  <tbody>\n",
       "    <tr>\n",
       "      <th>0</th>\n",
       "      <td>91a3c57b13234af24875c56fb7e2b2f4rb56a</td>\n",
       "      <td>a3d2de7675556553a5f08e4c88d2c228754av</td>\n",
       "      <td>a3d2de7675556553a5f08e4c88d2c228vt0u4</td>\n",
       "      <td>0.0</td>\n",
       "    </tr>\n",
       "    <tr>\n",
       "      <th>1</th>\n",
       "      <td>624f258b49e77713fc34034560f93fb3hu3jo</td>\n",
       "      <td>a3d2de7675556553a5f08e4c88d2c228v1sga</td>\n",
       "      <td>ae87054e5a97a8f840a3991d12611fdcrfbq3</td>\n",
       "      <td>0.0</td>\n",
       "    </tr>\n",
       "    <tr>\n",
       "      <th>2</th>\n",
       "      <td>1c5f4fc669099bfbfac515cd26997bd12ruaj</td>\n",
       "      <td>a3d2de7675556553a5f08e4c88d2c2280cybl</td>\n",
       "      <td>92520288b50f03907041887884ba49c0cl0pd</td>\n",
       "      <td>0.0</td>\n",
       "    </tr>\n",
       "    <tr>\n",
       "      <th>3</th>\n",
       "      <td>4bee9aba2abda51bf43d639013d6efe12iycd</td>\n",
       "      <td>51d80e233f7b6a7dfdee484a3c120f3b2ita8</td>\n",
       "      <td>4cb9717c8ad7e88a9a284989dd79b98dbevyi</td>\n",
       "      <td>0.0</td>\n",
       "    </tr>\n",
       "    <tr>\n",
       "      <th>4</th>\n",
       "      <td>4ab12bc61c82ddd9c2d65e60555808acqgos1</td>\n",
       "      <td>a3d2de7675556553a5f08e4c88d2c22857ddh</td>\n",
       "      <td>2a96c3ce94b3be921e0296097b88b56a7x1ji</td>\n",
       "      <td>0.0</td>\n",
       "    </tr>\n",
       "  </tbody>\n",
       "</table>\n",
       "</div>"
      ],
      "text/plain": [
       "                               bidder_id  \\\n",
       "0  91a3c57b13234af24875c56fb7e2b2f4rb56a   \n",
       "1  624f258b49e77713fc34034560f93fb3hu3jo   \n",
       "2  1c5f4fc669099bfbfac515cd26997bd12ruaj   \n",
       "3  4bee9aba2abda51bf43d639013d6efe12iycd   \n",
       "4  4ab12bc61c82ddd9c2d65e60555808acqgos1   \n",
       "\n",
       "                         payment_account  \\\n",
       "0  a3d2de7675556553a5f08e4c88d2c228754av   \n",
       "1  a3d2de7675556553a5f08e4c88d2c228v1sga   \n",
       "2  a3d2de7675556553a5f08e4c88d2c2280cybl   \n",
       "3  51d80e233f7b6a7dfdee484a3c120f3b2ita8   \n",
       "4  a3d2de7675556553a5f08e4c88d2c22857ddh   \n",
       "\n",
       "                                 address  outcome  \n",
       "0  a3d2de7675556553a5f08e4c88d2c228vt0u4      0.0  \n",
       "1  ae87054e5a97a8f840a3991d12611fdcrfbq3      0.0  \n",
       "2  92520288b50f03907041887884ba49c0cl0pd      0.0  \n",
       "3  4cb9717c8ad7e88a9a284989dd79b98dbevyi      0.0  \n",
       "4  2a96c3ce94b3be921e0296097b88b56a7x1ji      0.0  "
      ]
     },
     "execution_count": 741,
     "metadata": {},
     "output_type": "execute_result"
    }
   ],
   "source": [
    "df_train.head ()"
   ]
  },
  {
   "cell_type": "code",
   "execution_count": 742,
   "id": "269d3b3a",
   "metadata": {},
   "outputs": [
    {
     "data": {
      "text/plain": [
       "6614"
      ]
     },
     "execution_count": 742,
     "metadata": {},
     "output_type": "execute_result"
    }
   ],
   "source": [
    "# We have 6,614 unique bidders\n",
    "len(df_bids ['bidder_id'].unique().tolist())\n",
    "\n"
   ]
  },
  {
   "cell_type": "code",
   "execution_count": 743,
   "id": "9cc8c937",
   "metadata": {},
   "outputs": [
    {
     "data": {
      "text/plain": [
       "2013"
      ]
     },
     "execution_count": 743,
     "metadata": {},
     "output_type": "execute_result"
    }
   ],
   "source": [
    "#Check to see if all bidder_ids in df_train are unique: they are.\n",
    "# This means no bidder was identified sometimes as robot, sometimes as human.\n",
    "len(df_train ['bidder_id'].unique().tolist())\n"
   ]
  },
  {
   "cell_type": "markdown",
   "id": "ab5060ab",
   "metadata": {},
   "source": [
    "Next I’ll join the bidder outcomes (robot or human to the main bidder data frame).\n",
    "df_train is a subset of the total (it is a training set), so I’ll do an inner join,\n",
    "This will truncate df_bidder by removing unclassified bidders (bidders that are not in df_train), but it is ok, since we are not interested in biders that have not been classified.\n",
    "\n"
   ]
  },
  {
   "cell_type": "code",
   "execution_count": 744,
   "id": "34fa9a75",
   "metadata": {},
   "outputs": [
    {
     "name": "stderr",
     "output_type": "stream",
     "text": [
      "/var/folders/r_/cj1mjlpj3hv8g4c245j9z6j80000gn/T/ipykernel_28648/883300981.py:6: FutureWarning: In a future version of pandas all arguments of DataFrame.drop except for the argument 'labels' will be keyword-only.\n",
      "  df_outcomes.drop(df_outcomes.columns.difference(['outcome','country','bid_id']), 1, inplace=True)\n"
     ]
    },
    {
     "data": {
      "text/html": [
       "<div>\n",
       "<style scoped>\n",
       "    .dataframe tbody tr th:only-of-type {\n",
       "        vertical-align: middle;\n",
       "    }\n",
       "\n",
       "    .dataframe tbody tr th {\n",
       "        vertical-align: top;\n",
       "    }\n",
       "\n",
       "    .dataframe thead th {\n",
       "        text-align: right;\n",
       "    }\n",
       "</style>\n",
       "<table border=\"1\" class=\"dataframe\">\n",
       "  <thead>\n",
       "    <tr style=\"text-align: right;\">\n",
       "      <th></th>\n",
       "      <th>outcome</th>\n",
       "      <th>country</th>\n",
       "      <th>bid_id</th>\n",
       "      <th>percentage</th>\n",
       "    </tr>\n",
       "  </thead>\n",
       "  <tbody>\n",
       "    <tr>\n",
       "      <th>0</th>\n",
       "      <td>0.0</td>\n",
       "      <td>ad</td>\n",
       "      <td>10</td>\n",
       "      <td>0.714286</td>\n",
       "    </tr>\n",
       "    <tr>\n",
       "      <th>1</th>\n",
       "      <td>1.0</td>\n",
       "      <td>ad</td>\n",
       "      <td>4</td>\n",
       "      <td>0.285714</td>\n",
       "    </tr>\n",
       "    <tr>\n",
       "      <th>2</th>\n",
       "      <td>0.0</td>\n",
       "      <td>ae</td>\n",
       "      <td>14330</td>\n",
       "      <td>0.914778</td>\n",
       "    </tr>\n",
       "    <tr>\n",
       "      <th>3</th>\n",
       "      <td>1.0</td>\n",
       "      <td>ae</td>\n",
       "      <td>1335</td>\n",
       "      <td>0.085222</td>\n",
       "    </tr>\n",
       "    <tr>\n",
       "      <th>4</th>\n",
       "      <td>0.0</td>\n",
       "      <td>af</td>\n",
       "      <td>1963</td>\n",
       "      <td>0.955231</td>\n",
       "    </tr>\n",
       "    <tr>\n",
       "      <th>...</th>\n",
       "      <td>...</td>\n",
       "      <td>...</td>\n",
       "      <td>...</td>\n",
       "      <td>...</td>\n",
       "    </tr>\n",
       "    <tr>\n",
       "      <th>391</th>\n",
       "      <td>1.0</td>\n",
       "      <td>zm</td>\n",
       "      <td>461</td>\n",
       "      <td>0.029700</td>\n",
       "    </tr>\n",
       "    <tr>\n",
       "      <th>392</th>\n",
       "      <td>0.0</td>\n",
       "      <td>zw</td>\n",
       "      <td>14688</td>\n",
       "      <td>0.984187</td>\n",
       "    </tr>\n",
       "    <tr>\n",
       "      <th>393</th>\n",
       "      <td>1.0</td>\n",
       "      <td>zw</td>\n",
       "      <td>236</td>\n",
       "      <td>0.015813</td>\n",
       "    </tr>\n",
       "    <tr>\n",
       "      <th>394</th>\n",
       "      <td>0.0</td>\n",
       "      <td>zz</td>\n",
       "      <td>3</td>\n",
       "      <td>0.750000</td>\n",
       "    </tr>\n",
       "    <tr>\n",
       "      <th>395</th>\n",
       "      <td>1.0</td>\n",
       "      <td>zz</td>\n",
       "      <td>1</td>\n",
       "      <td>0.250000</td>\n",
       "    </tr>\n",
       "  </tbody>\n",
       "</table>\n",
       "<p>396 rows × 4 columns</p>\n",
       "</div>"
      ],
      "text/plain": [
       "     outcome country  bid_id  percentage\n",
       "0        0.0      ad      10    0.714286\n",
       "1        1.0      ad       4    0.285714\n",
       "2        0.0      ae   14330    0.914778\n",
       "3        1.0      ae    1335    0.085222\n",
       "4        0.0      af    1963    0.955231\n",
       "..       ...     ...     ...         ...\n",
       "391      1.0      zm     461    0.029700\n",
       "392      0.0      zw   14688    0.984187\n",
       "393      1.0      zw     236    0.015813\n",
       "394      0.0      zz       3    0.750000\n",
       "395      1.0      zz       1    0.250000\n",
       "\n",
       "[396 rows x 4 columns]"
      ]
     },
     "execution_count": 744,
     "metadata": {},
     "output_type": "execute_result"
    }
   ],
   "source": [
    "\n",
    "df_outcomes = pd.merge(df_bids, df_train, on='bidder_id', how='inner')\n",
    "\n",
    "#Count all the variables, inserting 0 where the count is 0\n",
    "df_outcomes = df_outcomes.groupby(['country','outcome']).count().unstack(fill_value=0).stack()\n",
    "df_outcomes= df_outcomes.reset_index(level=0)\n",
    "df_outcomes.drop(df_outcomes.columns.difference(['outcome','country','bid_id']), 1, inplace=True)\n",
    "df_outcomes[ 'percentage'] = df_outcomes.groupby('country').apply(lambda x: x / float(x.sum()))\n",
    "df_outcomes= df_outcomes.reset_index()\n",
    "df_outcomes\n",
    "\n",
    "\n"
   ]
  },
  {
   "cell_type": "code",
   "execution_count": 745,
   "id": "5d58e456",
   "metadata": {},
   "outputs": [],
   "source": [
    "# Keep only odd-numbered rows, et voilà:\n",
    "l=[]\n",
    "for i in df_outcomes.index.values:\n",
    "    if(i%2==1):\n",
    "        l.append(i)\n",
    "\n",
    "df_outcomes =df_outcomes.iloc [l]\n",
    "df_outcomes= df_outcomes.drop (['outcome','bid_id'], axis=1)"
   ]
  },
  {
   "cell_type": "code",
   "execution_count": 746,
   "id": "5eabe1fe",
   "metadata": {},
   "outputs": [
    {
     "data": {
      "text/html": [
       "<div>\n",
       "<style scoped>\n",
       "    .dataframe tbody tr th:only-of-type {\n",
       "        vertical-align: middle;\n",
       "    }\n",
       "\n",
       "    .dataframe tbody tr th {\n",
       "        vertical-align: top;\n",
       "    }\n",
       "\n",
       "    .dataframe thead th {\n",
       "        text-align: right;\n",
       "    }\n",
       "</style>\n",
       "<table border=\"1\" class=\"dataframe\">\n",
       "  <thead>\n",
       "    <tr style=\"text-align: right;\">\n",
       "      <th></th>\n",
       "      <th>country</th>\n",
       "      <th>percentage</th>\n",
       "    </tr>\n",
       "  </thead>\n",
       "  <tbody>\n",
       "    <tr>\n",
       "      <th>1</th>\n",
       "      <td>ad</td>\n",
       "      <td>0.285714</td>\n",
       "    </tr>\n",
       "    <tr>\n",
       "      <th>3</th>\n",
       "      <td>ae</td>\n",
       "      <td>0.085222</td>\n",
       "    </tr>\n",
       "    <tr>\n",
       "      <th>5</th>\n",
       "      <td>af</td>\n",
       "      <td>0.044769</td>\n",
       "    </tr>\n",
       "    <tr>\n",
       "      <th>7</th>\n",
       "      <td>ag</td>\n",
       "      <td>0.666667</td>\n",
       "    </tr>\n",
       "    <tr>\n",
       "      <th>9</th>\n",
       "      <td>al</td>\n",
       "      <td>0.022230</td>\n",
       "    </tr>\n",
       "    <tr>\n",
       "      <th>...</th>\n",
       "      <td>...</td>\n",
       "      <td>...</td>\n",
       "    </tr>\n",
       "    <tr>\n",
       "      <th>387</th>\n",
       "      <td>ye</td>\n",
       "      <td>0.109170</td>\n",
       "    </tr>\n",
       "    <tr>\n",
       "      <th>389</th>\n",
       "      <td>za</td>\n",
       "      <td>0.086032</td>\n",
       "    </tr>\n",
       "    <tr>\n",
       "      <th>391</th>\n",
       "      <td>zm</td>\n",
       "      <td>0.029700</td>\n",
       "    </tr>\n",
       "    <tr>\n",
       "      <th>393</th>\n",
       "      <td>zw</td>\n",
       "      <td>0.015813</td>\n",
       "    </tr>\n",
       "    <tr>\n",
       "      <th>395</th>\n",
       "      <td>zz</td>\n",
       "      <td>0.250000</td>\n",
       "    </tr>\n",
       "  </tbody>\n",
       "</table>\n",
       "<p>198 rows × 2 columns</p>\n",
       "</div>"
      ],
      "text/plain": [
       "    country  percentage\n",
       "1        ad    0.285714\n",
       "3        ae    0.085222\n",
       "5        af    0.044769\n",
       "7        ag    0.666667\n",
       "9        al    0.022230\n",
       "..      ...         ...\n",
       "387      ye    0.109170\n",
       "389      za    0.086032\n",
       "391      zm    0.029700\n",
       "393      zw    0.015813\n",
       "395      zz    0.250000\n",
       "\n",
       "[198 rows x 2 columns]"
      ]
     },
     "execution_count": 746,
     "metadata": {},
     "output_type": "execute_result"
    }
   ],
   "source": [
    "df_outcomes"
   ]
  },
  {
   "cell_type": "code",
   "execution_count": 619,
   "id": "32fda442",
   "metadata": {},
   "outputs": [],
   "source": [
    "new_column_names = [ 'country', 'fraction of bids from robots']\n",
    "df_outcomes.to_csv ('robot_fraction.csv',  header=new_column_names, index = False)"
   ]
  },
  {
   "cell_type": "code",
   "execution_count": 749,
   "id": "c6af66b4",
   "metadata": {},
   "outputs": [
    {
     "data": {
      "text/html": [
       "<div>\n",
       "<style scoped>\n",
       "    .dataframe tbody tr th:only-of-type {\n",
       "        vertical-align: middle;\n",
       "    }\n",
       "\n",
       "    .dataframe tbody tr th {\n",
       "        vertical-align: top;\n",
       "    }\n",
       "\n",
       "    .dataframe thead th {\n",
       "        text-align: right;\n",
       "    }\n",
       "</style>\n",
       "<table border=\"1\" class=\"dataframe\">\n",
       "  <thead>\n",
       "    <tr style=\"text-align: right;\">\n",
       "      <th></th>\n",
       "      <th>index</th>\n",
       "      <th>percentage</th>\n",
       "    </tr>\n",
       "  </thead>\n",
       "  <tbody>\n",
       "    <tr>\n",
       "      <th>0</th>\n",
       "      <td>count</td>\n",
       "      <td>198.000000</td>\n",
       "    </tr>\n",
       "    <tr>\n",
       "      <th>1</th>\n",
       "      <td>mean</td>\n",
       "      <td>0.224425</td>\n",
       "    </tr>\n",
       "    <tr>\n",
       "      <th>2</th>\n",
       "      <td>std</td>\n",
       "      <td>0.263703</td>\n",
       "    </tr>\n",
       "    <tr>\n",
       "      <th>3</th>\n",
       "      <td>min</td>\n",
       "      <td>0.000000</td>\n",
       "    </tr>\n",
       "    <tr>\n",
       "      <th>4</th>\n",
       "      <td>25%</td>\n",
       "      <td>0.035441</td>\n",
       "    </tr>\n",
       "    <tr>\n",
       "      <th>5</th>\n",
       "      <td>50%</td>\n",
       "      <td>0.124149</td>\n",
       "    </tr>\n",
       "    <tr>\n",
       "      <th>6</th>\n",
       "      <td>75%</td>\n",
       "      <td>0.281513</td>\n",
       "    </tr>\n",
       "    <tr>\n",
       "      <th>7</th>\n",
       "      <td>max</td>\n",
       "      <td>1.000000</td>\n",
       "    </tr>\n",
       "  </tbody>\n",
       "</table>\n",
       "</div>"
      ],
      "text/plain": [
       "   index  percentage\n",
       "0  count  198.000000\n",
       "1   mean    0.224425\n",
       "2    std    0.263703\n",
       "3    min    0.000000\n",
       "4    25%    0.035441\n",
       "5    50%    0.124149\n",
       "6    75%    0.281513\n",
       "7    max    1.000000"
      ]
     },
     "execution_count": 749,
     "metadata": {},
     "output_type": "execute_result"
    }
   ],
   "source": [
    "bid_intervals = df_outcomes.describe().reset_index()\n",
    "bid_intervals"
   ]
  },
  {
   "cell_type": "markdown",
   "id": "9afcdf9b",
   "metadata": {},
   "source": [
    "# "
   ]
  },
  {
   "cell_type": "markdown",
   "id": "3dbc8964",
   "metadata": {},
   "source": [
    "***"
   ]
  },
  {
   "cell_type": "markdown",
   "id": "93622568",
   "metadata": {},
   "source": [
    "# Task 2: analysis and visualisation\n",
    "## Using any programming language and libraries you want, perform exploratory data analysis on the data. You choose the variables you want to look at, the new features you want to construct, etc."
   ]
  },
  {
   "cell_type": "markdown",
   "id": "5421221a",
   "metadata": {},
   "source": [
    "Mainly I’ll use pandas for this, but I may export results into Excel to make for the graphs — they look better."
   ]
  },
  {
   "cell_type": "code",
   "execution_count": 137,
   "id": "d509ff78",
   "metadata": {},
   "outputs": [],
   "source": [
    "df_bids = pd.read_csv('/Users/hazemeseifan/Library/Mobile Documents/com~apple~CloudDocs/Work/facebook-recruiting-iv-human-or-bot/bids.csv')\n",
    "df_train = pd.read_csv('/Users/hazemeseifan/Library/Mobile Documents/com~apple~CloudDocs/Work/facebook-recruiting-iv-human-or-bot/train.csv')"
   ]
  },
  {
   "cell_type": "markdown",
   "id": "1dcf4dd8",
   "metadata": {},
   "source": [
    "I’ll join the outcome (human or robot to the main set again)."
   ]
  },
  {
   "cell_type": "code",
   "execution_count": 146,
   "id": "63b4e3fa",
   "metadata": {},
   "outputs": [
    {
     "data": {
      "text/html": [
       "<div>\n",
       "<style scoped>\n",
       "    .dataframe tbody tr th:only-of-type {\n",
       "        vertical-align: middle;\n",
       "    }\n",
       "\n",
       "    .dataframe tbody tr th {\n",
       "        vertical-align: top;\n",
       "    }\n",
       "\n",
       "    .dataframe thead th {\n",
       "        text-align: right;\n",
       "    }\n",
       "</style>\n",
       "<table border=\"1\" class=\"dataframe\">\n",
       "  <thead>\n",
       "    <tr style=\"text-align: right;\">\n",
       "      <th></th>\n",
       "      <th>bid_id</th>\n",
       "      <th>bidder_id</th>\n",
       "      <th>auction</th>\n",
       "      <th>merchandise</th>\n",
       "      <th>device</th>\n",
       "      <th>time</th>\n",
       "      <th>country</th>\n",
       "      <th>ip</th>\n",
       "      <th>url</th>\n",
       "      <th>payment_account</th>\n",
       "      <th>address</th>\n",
       "      <th>outcome</th>\n",
       "    </tr>\n",
       "  </thead>\n",
       "  <tbody>\n",
       "    <tr>\n",
       "      <th>0</th>\n",
       "      <td>1</td>\n",
       "      <td>668d393e858e8126275433046bbd35c6tywop</td>\n",
       "      <td>aeqok</td>\n",
       "      <td>furniture</td>\n",
       "      <td>phone1</td>\n",
       "      <td>9759243157894736</td>\n",
       "      <td>in</td>\n",
       "      <td>50.201.125.84</td>\n",
       "      <td>jmqlhflrzwuay9c</td>\n",
       "      <td>a3d2de7675556553a5f08e4c88d2c228ucoac</td>\n",
       "      <td>42a3b61a1fe69d66ad60f3e347aa09b1erfe2</td>\n",
       "      <td>0.0</td>\n",
       "    </tr>\n",
       "    <tr>\n",
       "      <th>1</th>\n",
       "      <td>25</td>\n",
       "      <td>668d393e858e8126275433046bbd35c6tywop</td>\n",
       "      <td>38v0a</td>\n",
       "      <td>furniture</td>\n",
       "      <td>phone4</td>\n",
       "      <td>9759243315789473</td>\n",
       "      <td>bd</td>\n",
       "      <td>147.64.206.30</td>\n",
       "      <td>vasstdc27m7nks3</td>\n",
       "      <td>a3d2de7675556553a5f08e4c88d2c228ucoac</td>\n",
       "      <td>42a3b61a1fe69d66ad60f3e347aa09b1erfe2</td>\n",
       "      <td>0.0</td>\n",
       "    </tr>\n",
       "    <tr>\n",
       "      <th>2</th>\n",
       "      <td>39</td>\n",
       "      <td>668d393e858e8126275433046bbd35c6tywop</td>\n",
       "      <td>aeqok</td>\n",
       "      <td>furniture</td>\n",
       "      <td>phone35</td>\n",
       "      <td>9759243368421052</td>\n",
       "      <td>in</td>\n",
       "      <td>75.11.239.20</td>\n",
       "      <td>i92xwb95qdo901j</td>\n",
       "      <td>a3d2de7675556553a5f08e4c88d2c228ucoac</td>\n",
       "      <td>42a3b61a1fe69d66ad60f3e347aa09b1erfe2</td>\n",
       "      <td>0.0</td>\n",
       "    </tr>\n",
       "    <tr>\n",
       "      <th>3</th>\n",
       "      <td>42</td>\n",
       "      <td>668d393e858e8126275433046bbd35c6tywop</td>\n",
       "      <td>jkyzt</td>\n",
       "      <td>furniture</td>\n",
       "      <td>phone38</td>\n",
       "      <td>9759243368421052</td>\n",
       "      <td>in</td>\n",
       "      <td>215.203.78.242</td>\n",
       "      <td>s4hrzaqd5vbq2he</td>\n",
       "      <td>a3d2de7675556553a5f08e4c88d2c228ucoac</td>\n",
       "      <td>42a3b61a1fe69d66ad60f3e347aa09b1erfe2</td>\n",
       "      <td>0.0</td>\n",
       "    </tr>\n",
       "    <tr>\n",
       "      <th>4</th>\n",
       "      <td>68</td>\n",
       "      <td>668d393e858e8126275433046bbd35c6tywop</td>\n",
       "      <td>h2xrf</td>\n",
       "      <td>furniture</td>\n",
       "      <td>phone57</td>\n",
       "      <td>9759243526315789</td>\n",
       "      <td>in</td>\n",
       "      <td>134.198.237.242</td>\n",
       "      <td>1euklxshlldto4z</td>\n",
       "      <td>a3d2de7675556553a5f08e4c88d2c228ucoac</td>\n",
       "      <td>42a3b61a1fe69d66ad60f3e347aa09b1erfe2</td>\n",
       "      <td>0.0</td>\n",
       "    </tr>\n",
       "    <tr>\n",
       "      <th>...</th>\n",
       "      <td>...</td>\n",
       "      <td>...</td>\n",
       "      <td>...</td>\n",
       "      <td>...</td>\n",
       "      <td>...</td>\n",
       "      <td>...</td>\n",
       "      <td>...</td>\n",
       "      <td>...</td>\n",
       "      <td>...</td>\n",
       "      <td>...</td>\n",
       "      <td>...</td>\n",
       "      <td>...</td>\n",
       "    </tr>\n",
       "    <tr>\n",
       "      <th>3071219</th>\n",
       "      <td>7617228</td>\n",
       "      <td>1dab9ffc5c6bf06e86e0dd1b3cb9ebecn5pu6</td>\n",
       "      <td>jqx39</td>\n",
       "      <td>jewelry</td>\n",
       "      <td>phone65</td>\n",
       "      <td>9709041947368421</td>\n",
       "      <td>cn</td>\n",
       "      <td>90.168.76.210</td>\n",
       "      <td>vasstdc27m7nks3</td>\n",
       "      <td>a3d2de7675556553a5f08e4c88d2c228wissi</td>\n",
       "      <td>502100bcbbe650810a27b0e70d96372ere7rp</td>\n",
       "      <td>0.0</td>\n",
       "    </tr>\n",
       "    <tr>\n",
       "      <th>3071220</th>\n",
       "      <td>7637097</td>\n",
       "      <td>91c749114e26abdb9a4536169f9b4580huern</td>\n",
       "      <td>jqx39</td>\n",
       "      <td>jewelry</td>\n",
       "      <td>phone15</td>\n",
       "      <td>9709134105263157</td>\n",
       "      <td>id</td>\n",
       "      <td>221.143.27.57</td>\n",
       "      <td>pkegaymari9jblo</td>\n",
       "      <td>a3d2de7675556553a5f08e4c88d2c228tekzv</td>\n",
       "      <td>2cffbc8171f2ef4b5cafe94f038c877bcert5</td>\n",
       "      <td>1.0</td>\n",
       "    </tr>\n",
       "    <tr>\n",
       "      <th>3071221</th>\n",
       "      <td>7639758</td>\n",
       "      <td>a06311ea45de34bf667b79a92d13c764i6aiy</td>\n",
       "      <td>cy43h</td>\n",
       "      <td>sporting goods</td>\n",
       "      <td>phone142</td>\n",
       "      <td>9709146315789473</td>\n",
       "      <td>in</td>\n",
       "      <td>108.54.134.235</td>\n",
       "      <td>xe4uylmhtrsvss1</td>\n",
       "      <td>a3d2de7675556553a5f08e4c88d2c2284grjh</td>\n",
       "      <td>e1ef795abd4f178f753542cbbf54ce89jcfxk</td>\n",
       "      <td>0.0</td>\n",
       "    </tr>\n",
       "    <tr>\n",
       "      <th>3071222</th>\n",
       "      <td>7651414</td>\n",
       "      <td>dfb23124fba16b7778f65c1c8d091f949jz0k</td>\n",
       "      <td>y3n7r</td>\n",
       "      <td>mobile</td>\n",
       "      <td>phone21</td>\n",
       "      <td>9709200631578947</td>\n",
       "      <td>in</td>\n",
       "      <td>95.158.193.99</td>\n",
       "      <td>qctqqhoxoicvck1</td>\n",
       "      <td>4c94a221dc03977b5bf3f2035379797cn4n58</td>\n",
       "      <td>65d747de6c1cca49af4c0c27a5b7e8c7tti5y</td>\n",
       "      <td>0.0</td>\n",
       "    </tr>\n",
       "    <tr>\n",
       "      <th>3071223</th>\n",
       "      <td>7651994</td>\n",
       "      <td>01f498a0992d280de63ec346692efb2blckg2</td>\n",
       "      <td>9br8v</td>\n",
       "      <td>jewelry</td>\n",
       "      <td>phone457</td>\n",
       "      <td>9709203210526315</td>\n",
       "      <td>in</td>\n",
       "      <td>7.123.42.157</td>\n",
       "      <td>6aw2f4acgfy6qf1</td>\n",
       "      <td>d817b2cf2acb3ccbd33c306831950345h2vb5</td>\n",
       "      <td>7a6f24d2b51620605da00bda42691f30697ky</td>\n",
       "      <td>0.0</td>\n",
       "    </tr>\n",
       "  </tbody>\n",
       "</table>\n",
       "<p>3071224 rows × 12 columns</p>\n",
       "</div>"
      ],
      "text/plain": [
       "          bid_id                              bidder_id auction  \\\n",
       "0              1  668d393e858e8126275433046bbd35c6tywop   aeqok   \n",
       "1             25  668d393e858e8126275433046bbd35c6tywop   38v0a   \n",
       "2             39  668d393e858e8126275433046bbd35c6tywop   aeqok   \n",
       "3             42  668d393e858e8126275433046bbd35c6tywop   jkyzt   \n",
       "4             68  668d393e858e8126275433046bbd35c6tywop   h2xrf   \n",
       "...          ...                                    ...     ...   \n",
       "3071219  7617228  1dab9ffc5c6bf06e86e0dd1b3cb9ebecn5pu6   jqx39   \n",
       "3071220  7637097  91c749114e26abdb9a4536169f9b4580huern   jqx39   \n",
       "3071221  7639758  a06311ea45de34bf667b79a92d13c764i6aiy   cy43h   \n",
       "3071222  7651414  dfb23124fba16b7778f65c1c8d091f949jz0k   y3n7r   \n",
       "3071223  7651994  01f498a0992d280de63ec346692efb2blckg2   9br8v   \n",
       "\n",
       "            merchandise    device              time country               ip  \\\n",
       "0             furniture    phone1  9759243157894736      in    50.201.125.84   \n",
       "1             furniture    phone4  9759243315789473      bd    147.64.206.30   \n",
       "2             furniture   phone35  9759243368421052      in     75.11.239.20   \n",
       "3             furniture   phone38  9759243368421052      in   215.203.78.242   \n",
       "4             furniture   phone57  9759243526315789      in  134.198.237.242   \n",
       "...                 ...       ...               ...     ...              ...   \n",
       "3071219         jewelry   phone65  9709041947368421      cn    90.168.76.210   \n",
       "3071220         jewelry   phone15  9709134105263157      id    221.143.27.57   \n",
       "3071221  sporting goods  phone142  9709146315789473      in   108.54.134.235   \n",
       "3071222          mobile   phone21  9709200631578947      in    95.158.193.99   \n",
       "3071223         jewelry  phone457  9709203210526315      in     7.123.42.157   \n",
       "\n",
       "                     url                        payment_account  \\\n",
       "0        jmqlhflrzwuay9c  a3d2de7675556553a5f08e4c88d2c228ucoac   \n",
       "1        vasstdc27m7nks3  a3d2de7675556553a5f08e4c88d2c228ucoac   \n",
       "2        i92xwb95qdo901j  a3d2de7675556553a5f08e4c88d2c228ucoac   \n",
       "3        s4hrzaqd5vbq2he  a3d2de7675556553a5f08e4c88d2c228ucoac   \n",
       "4        1euklxshlldto4z  a3d2de7675556553a5f08e4c88d2c228ucoac   \n",
       "...                  ...                                    ...   \n",
       "3071219  vasstdc27m7nks3  a3d2de7675556553a5f08e4c88d2c228wissi   \n",
       "3071220  pkegaymari9jblo  a3d2de7675556553a5f08e4c88d2c228tekzv   \n",
       "3071221  xe4uylmhtrsvss1  a3d2de7675556553a5f08e4c88d2c2284grjh   \n",
       "3071222  qctqqhoxoicvck1  4c94a221dc03977b5bf3f2035379797cn4n58   \n",
       "3071223  6aw2f4acgfy6qf1  d817b2cf2acb3ccbd33c306831950345h2vb5   \n",
       "\n",
       "                                       address  outcome  \n",
       "0        42a3b61a1fe69d66ad60f3e347aa09b1erfe2      0.0  \n",
       "1        42a3b61a1fe69d66ad60f3e347aa09b1erfe2      0.0  \n",
       "2        42a3b61a1fe69d66ad60f3e347aa09b1erfe2      0.0  \n",
       "3        42a3b61a1fe69d66ad60f3e347aa09b1erfe2      0.0  \n",
       "4        42a3b61a1fe69d66ad60f3e347aa09b1erfe2      0.0  \n",
       "...                                        ...      ...  \n",
       "3071219  502100bcbbe650810a27b0e70d96372ere7rp      0.0  \n",
       "3071220  2cffbc8171f2ef4b5cafe94f038c877bcert5      1.0  \n",
       "3071221  e1ef795abd4f178f753542cbbf54ce89jcfxk      0.0  \n",
       "3071222  65d747de6c1cca49af4c0c27a5b7e8c7tti5y      0.0  \n",
       "3071223  7a6f24d2b51620605da00bda42691f30697ky      0.0  \n",
       "\n",
       "[3071224 rows x 12 columns]"
      ]
     },
     "execution_count": 146,
     "metadata": {},
     "output_type": "execute_result"
    }
   ],
   "source": [
    "df_outcomes = pd.merge(df_bids, df_train, on='bidder_id', how='inner')\n",
    "\n",
    "df_outcomes"
   ]
  },
  {
   "cell_type": "markdown",
   "id": "4420d9e3",
   "metadata": {},
   "source": [
    "First we'll try to look at the average number of bids per bidder per auction and compare between humans and robots."
   ]
  },
  {
   "cell_type": "code",
   "execution_count": 109,
   "id": "693080d3",
   "metadata": {},
   "outputs": [
    {
     "data": {
      "text/html": [
       "<div>\n",
       "<style scoped>\n",
       "    .dataframe tbody tr th:only-of-type {\n",
       "        vertical-align: middle;\n",
       "    }\n",
       "\n",
       "    .dataframe tbody tr th {\n",
       "        vertical-align: top;\n",
       "    }\n",
       "\n",
       "    .dataframe thead th {\n",
       "        text-align: right;\n",
       "    }\n",
       "</style>\n",
       "<table border=\"1\" class=\"dataframe\">\n",
       "  <thead>\n",
       "    <tr style=\"text-align: right;\">\n",
       "      <th></th>\n",
       "      <th>auction</th>\n",
       "      <th>outcome</th>\n",
       "      <th>bidder_id</th>\n",
       "      <th>bid_id</th>\n",
       "    </tr>\n",
       "  </thead>\n",
       "  <tbody>\n",
       "    <tr>\n",
       "      <th>0</th>\n",
       "      <td>00270</td>\n",
       "      <td>0.0</td>\n",
       "      <td>2d38a6af2ce96c1446f900aa4756b8975y9k3</td>\n",
       "      <td>5</td>\n",
       "    </tr>\n",
       "    <tr>\n",
       "      <th>1</th>\n",
       "      <td>00270</td>\n",
       "      <td>0.0</td>\n",
       "      <td>384ba7c5a8ccf55d174080d9ad7de9b8mfysi</td>\n",
       "      <td>1</td>\n",
       "    </tr>\n",
       "    <tr>\n",
       "      <th>2</th>\n",
       "      <td>00270</td>\n",
       "      <td>0.0</td>\n",
       "      <td>5dda8ade6b5d4065f3119a381516c227yoz8y</td>\n",
       "      <td>2</td>\n",
       "    </tr>\n",
       "    <tr>\n",
       "      <th>3</th>\n",
       "      <td>00270</td>\n",
       "      <td>0.0</td>\n",
       "      <td>84c4b58a1491da3a30710bcdf61f87054xfq6</td>\n",
       "      <td>7</td>\n",
       "    </tr>\n",
       "    <tr>\n",
       "      <th>4</th>\n",
       "      <td>00270</td>\n",
       "      <td>0.0</td>\n",
       "      <td>9aca61f505f40a3b4f7865c2d00e2418s0e1f</td>\n",
       "      <td>1</td>\n",
       "    </tr>\n",
       "    <tr>\n",
       "      <th>...</th>\n",
       "      <td>...</td>\n",
       "      <td>...</td>\n",
       "      <td>...</td>\n",
       "      <td>...</td>\n",
       "    </tr>\n",
       "    <tr>\n",
       "      <th>124165</th>\n",
       "      <td>zzzy7</td>\n",
       "      <td>0.0</td>\n",
       "      <td>8251041848182e6468c8119905a177dekmshg</td>\n",
       "      <td>1</td>\n",
       "    </tr>\n",
       "    <tr>\n",
       "      <th>124166</th>\n",
       "      <td>zzzy7</td>\n",
       "      <td>0.0</td>\n",
       "      <td>bc3d08ad6ac94b8b5ce40a29b59899cakj3p5</td>\n",
       "      <td>2</td>\n",
       "    </tr>\n",
       "    <tr>\n",
       "      <th>124167</th>\n",
       "      <td>zzzy7</td>\n",
       "      <td>0.0</td>\n",
       "      <td>c5863a228287327c9980d12a632985da9vi29</td>\n",
       "      <td>7</td>\n",
       "    </tr>\n",
       "    <tr>\n",
       "      <th>124168</th>\n",
       "      <td>zzzy7</td>\n",
       "      <td>0.0</td>\n",
       "      <td>e9c8ee7f783723fe8496dd35232d88f2or1r1</td>\n",
       "      <td>3</td>\n",
       "    </tr>\n",
       "    <tr>\n",
       "      <th>124169</th>\n",
       "      <td>zzzy7</td>\n",
       "      <td>1.0</td>\n",
       "      <td>3d7cff3dedd8a8e02dbc551c6a61da3bibbvh</td>\n",
       "      <td>3</td>\n",
       "    </tr>\n",
       "  </tbody>\n",
       "</table>\n",
       "<p>124170 rows × 4 columns</p>\n",
       "</div>"
      ],
      "text/plain": [
       "       auction  outcome                              bidder_id  bid_id\n",
       "0        00270      0.0  2d38a6af2ce96c1446f900aa4756b8975y9k3       5\n",
       "1        00270      0.0  384ba7c5a8ccf55d174080d9ad7de9b8mfysi       1\n",
       "2        00270      0.0  5dda8ade6b5d4065f3119a381516c227yoz8y       2\n",
       "3        00270      0.0  84c4b58a1491da3a30710bcdf61f87054xfq6       7\n",
       "4        00270      0.0  9aca61f505f40a3b4f7865c2d00e2418s0e1f       1\n",
       "...        ...      ...                                    ...     ...\n",
       "124165   zzzy7      0.0  8251041848182e6468c8119905a177dekmshg       1\n",
       "124166   zzzy7      0.0  bc3d08ad6ac94b8b5ce40a29b59899cakj3p5       2\n",
       "124167   zzzy7      0.0  c5863a228287327c9980d12a632985da9vi29       7\n",
       "124168   zzzy7      0.0  e9c8ee7f783723fe8496dd35232d88f2or1r1       3\n",
       "124169   zzzy7      1.0  3d7cff3dedd8a8e02dbc551c6a61da3bibbvh       3\n",
       "\n",
       "[124170 rows x 4 columns]"
      ]
     },
     "execution_count": 109,
     "metadata": {},
     "output_type": "execute_result"
    }
   ],
   "source": [
    "no_of_bids= df_outcomes.groupby (['auction', 'outcome', 'bidder_id'], as_index= False).agg ({'bid_id':'count'}) \n",
    "\n",
    "no_of_bids"
   ]
  },
  {
   "cell_type": "code",
   "execution_count": 110,
   "id": "9386dc28",
   "metadata": {},
   "outputs": [
    {
     "data": {
      "text/plain": [
       "<AxesSubplot:xlabel='outcome', ylabel='bid_id'>"
      ]
     },
     "execution_count": 110,
     "metadata": {},
     "output_type": "execute_result"
    },
    {
     "data": {
      "image/png": "[encoded data removed]",
      "text/plain": [
       "<Figure size 432x288 with 1 Axes>"
      ]
     },
     "metadata": {
      "needs_background": "light"
     },
     "output_type": "display_data"
    }
   ],
   "source": [
    "no_of_bids.plot (kind = 'scatter', x = 'outcome', y = 'bid_id')"
   ]
  },
  {
   "cell_type": "markdown",
   "id": "24d29ec0",
   "metadata": {},
   "source": [
    "We can see from the graph above that we have a super robot that put in more than 60,000 bids on one auction.  Let's identify the culprit, just for the fun of it."
   ]
  },
  {
   "cell_type": "code",
   "execution_count": 10,
   "id": "5e040979",
   "metadata": {},
   "outputs": [
    {
     "data": {
      "text/html": [
       "<div>\n",
       "<style scoped>\n",
       "    .dataframe tbody tr th:only-of-type {\n",
       "        vertical-align: middle;\n",
       "    }\n",
       "\n",
       "    .dataframe tbody tr th {\n",
       "        vertical-align: top;\n",
       "    }\n",
       "\n",
       "    .dataframe thead th {\n",
       "        text-align: right;\n",
       "    }\n",
       "</style>\n",
       "<table border=\"1\" class=\"dataframe\">\n",
       "  <thead>\n",
       "    <tr style=\"text-align: right;\">\n",
       "      <th></th>\n",
       "      <th>auction</th>\n",
       "      <th>outcome</th>\n",
       "      <th>bidder_id</th>\n",
       "      <th>bid_id</th>\n",
       "    </tr>\n",
       "  </thead>\n",
       "  <tbody>\n",
       "    <tr>\n",
       "      <th>68478</th>\n",
       "      <td>jqx39</td>\n",
       "      <td>1.0</td>\n",
       "      <td>9655ccc7c0c193f1549475f02c54dce45kjw7</td>\n",
       "      <td>62485</td>\n",
       "    </tr>\n",
       "  </tbody>\n",
       "</table>\n",
       "</div>"
      ],
      "text/plain": [
       "      auction  outcome                              bidder_id  bid_id\n",
       "68478   jqx39      1.0  9655ccc7c0c193f1549475f02c54dce45kjw7   62485"
      ]
     },
     "execution_count": 10,
     "metadata": {},
     "output_type": "execute_result"
    }
   ],
   "source": [
    "no_of_bids.loc[no_of_bids['bid_id'] > 50000]"
   ]
  },
  {
   "cell_type": "code",
   "execution_count": 111,
   "id": "273c883e",
   "metadata": {},
   "outputs": [
    {
     "data": {
      "text/html": [
       "<div>\n",
       "<style scoped>\n",
       "    .dataframe tbody tr th:only-of-type {\n",
       "        vertical-align: middle;\n",
       "    }\n",
       "\n",
       "    .dataframe tbody tr th {\n",
       "        vertical-align: top;\n",
       "    }\n",
       "\n",
       "    .dataframe thead th {\n",
       "        text-align: right;\n",
       "    }\n",
       "</style>\n",
       "<table border=\"1\" class=\"dataframe\">\n",
       "  <thead>\n",
       "    <tr style=\"text-align: right;\">\n",
       "      <th></th>\n",
       "      <th>outcome</th>\n",
       "      <th>bid_id</th>\n",
       "    </tr>\n",
       "  </thead>\n",
       "  <tbody>\n",
       "    <tr>\n",
       "      <th>0</th>\n",
       "      <td>0.0</td>\n",
       "      <td>24.341149</td>\n",
       "    </tr>\n",
       "    <tr>\n",
       "      <th>1</th>\n",
       "      <td>1.0</td>\n",
       "      <td>27.606667</td>\n",
       "    </tr>\n",
       "  </tbody>\n",
       "</table>\n",
       "</div>"
      ],
      "text/plain": [
       "   outcome     bid_id\n",
       "0      0.0  24.341149\n",
       "1      1.0  27.606667"
      ]
     },
     "execution_count": 111,
     "metadata": {},
     "output_type": "execute_result"
    }
   ],
   "source": [
    "#Now take the average of the number of bids per auction grouped by outcome:\n",
    "\n",
    "no_of_bids= no_of_bids.groupby (['outcome'], as_index= False).agg ({'bid_id':'mean'}) \n",
    "\n",
    "Final = no_of_bids\n",
    "Final"
   ]
  },
  {
   "cell_type": "code",
   "execution_count": 14,
   "id": "1b35a57b",
   "metadata": {},
   "outputs": [
    {
     "data": {
      "text/plain": [
       "<AxesSubplot:>"
      ]
     },
     "execution_count": 14,
     "metadata": {},
     "output_type": "execute_result"
    },
    {
     "data": {
      "image/png": "[encoded data removed]",
      "text/plain": [
       "<Figure size 432x288 with 1 Axes>"
      ]
     },
     "metadata": {
      "needs_background": "light"
     },
     "output_type": "display_data"
    }
   ],
   "source": [
    "Final[ 'bid_id'].plot(kind=\"bar\")"
   ]
  },
  {
   "cell_type": "markdown",
   "id": "70a7afc8",
   "metadata": {},
   "source": [
    "Now we'll lool at the number of bids per bidder"
   ]
  },
  {
   "cell_type": "code",
   "execution_count": 112,
   "id": "2cf71309",
   "metadata": {},
   "outputs": [
    {
     "data": {
      "text/plain": [
       "<AxesSubplot:xlabel='outcome', ylabel='auction'>"
      ]
     },
     "execution_count": 112,
     "metadata": {},
     "output_type": "execute_result"
    },
    {
     "data": {
      "image/png": "[encoded data removed]",
      "text/plain": [
       "<Figure size 432x288 with 1 Axes>"
      ]
     },
     "metadata": {
      "needs_background": "light"
     },
     "output_type": "display_data"
    }
   ],
   "source": [
    "no_of_auctions= df_outcomes.groupby (['outcome', 'bidder_id'], as_index= False).agg ({'auction':'nunique'}) \n",
    "\n",
    "no_of_auctions.plot (kind = 'scatter', x = 'outcome', y = 'auction')"
   ]
  },
  {
   "cell_type": "code",
   "execution_count": 113,
   "id": "6e7879aa",
   "metadata": {},
   "outputs": [
    {
     "data": {
      "text/html": [
       "<div>\n",
       "<style scoped>\n",
       "    .dataframe tbody tr th:only-of-type {\n",
       "        vertical-align: middle;\n",
       "    }\n",
       "\n",
       "    .dataframe tbody tr th {\n",
       "        vertical-align: top;\n",
       "    }\n",
       "\n",
       "    .dataframe thead th {\n",
       "        text-align: right;\n",
       "    }\n",
       "</style>\n",
       "<table border=\"1\" class=\"dataframe\">\n",
       "  <thead>\n",
       "    <tr style=\"text-align: right;\">\n",
       "      <th></th>\n",
       "      <th>outcome</th>\n",
       "      <th>bid_id</th>\n",
       "      <th>av_auctions</th>\n",
       "    </tr>\n",
       "  </thead>\n",
       "  <tbody>\n",
       "    <tr>\n",
       "      <th>0</th>\n",
       "      <td>0.0</td>\n",
       "      <td>24.341149</td>\n",
       "      <td>58.070707</td>\n",
       "    </tr>\n",
       "    <tr>\n",
       "      <th>1</th>\n",
       "      <td>1.0</td>\n",
       "      <td>27.606667</td>\n",
       "      <td>145.038835</td>\n",
       "    </tr>\n",
       "  </tbody>\n",
       "</table>\n",
       "</div>"
      ],
      "text/plain": [
       "   outcome     bid_id  av_auctions\n",
       "0      0.0  24.341149    58.070707\n",
       "1      1.0  27.606667   145.038835"
      ]
     },
     "execution_count": 113,
     "metadata": {},
     "output_type": "execute_result"
    }
   ],
   "source": [
    "no_of_auctions= no_of_auctions.groupby (['outcome'], as_index= False).agg ({'auction':'mean'}) \n",
    "\n",
    "Final ['av_auctions']= no_of_auctions ['auction']\n",
    "Final"
   ]
  },
  {
   "cell_type": "code",
   "execution_count": 114,
   "id": "9ee1b77c",
   "metadata": {},
   "outputs": [
    {
     "data": {
      "text/plain": [
       "<AxesSubplot:>"
      ]
     },
     "execution_count": 114,
     "metadata": {},
     "output_type": "execute_result"
    },
    {
     "data": {
      "image/png": "[encoded data removed]",
      "text/plain": [
       "<Figure size 432x288 with 1 Axes>"
      ]
     },
     "metadata": {
      "needs_background": "light"
     },
     "output_type": "display_data"
    }
   ],
   "source": [
    "Final[ ['bid_id', 'av_auctions']].plot(kind=\"bar\")"
   ]
  },
  {
   "cell_type": "markdown",
   "id": "0de9a233",
   "metadata": {},
   "source": [
    "By type of merchandise:"
   ]
  },
  {
   "cell_type": "code",
   "execution_count": 115,
   "id": "283affcd",
   "metadata": {},
   "outputs": [
    {
     "data": {
      "text/plain": [
       "<AxesSubplot:xlabel='outcome', ylabel='merchandise'>"
      ]
     },
     "execution_count": 115,
     "metadata": {},
     "output_type": "execute_result"
    },
    {
     "data": {
      "image/png": "[encoded data removed]",
      "text/plain": [
       "<Figure size 432x288 with 1 Axes>"
      ]
     },
     "metadata": {
      "needs_background": "light"
     },
     "output_type": "display_data"
    }
   ],
   "source": [
    "merch= df_outcomes.groupby (['outcome', 'bidder_id'], as_index= False).agg ({'merchandise':'nunique'}) \n",
    "\n",
    "merch.plot (kind = 'scatter', x = 'outcome', y = 'merchandise')"
   ]
  },
  {
   "cell_type": "code",
   "execution_count": 116,
   "id": "149820ff",
   "metadata": {},
   "outputs": [
    {
     "data": {
      "text/html": [
       "<div>\n",
       "<style scoped>\n",
       "    .dataframe tbody tr th:only-of-type {\n",
       "        vertical-align: middle;\n",
       "    }\n",
       "\n",
       "    .dataframe tbody tr th {\n",
       "        vertical-align: top;\n",
       "    }\n",
       "\n",
       "    .dataframe thead th {\n",
       "        text-align: right;\n",
       "    }\n",
       "</style>\n",
       "<table border=\"1\" class=\"dataframe\">\n",
       "  <thead>\n",
       "    <tr style=\"text-align: right;\">\n",
       "      <th></th>\n",
       "      <th>outcome</th>\n",
       "      <th>bid_id</th>\n",
       "      <th>av_auctions</th>\n",
       "      <th>merchandise_type</th>\n",
       "    </tr>\n",
       "  </thead>\n",
       "  <tbody>\n",
       "    <tr>\n",
       "      <th>0</th>\n",
       "      <td>0.0</td>\n",
       "      <td>24.341149</td>\n",
       "      <td>58.070707</td>\n",
       "      <td>1.000532</td>\n",
       "    </tr>\n",
       "    <tr>\n",
       "      <th>1</th>\n",
       "      <td>1.0</td>\n",
       "      <td>27.606667</td>\n",
       "      <td>145.038835</td>\n",
       "      <td>1.000000</td>\n",
       "    </tr>\n",
       "  </tbody>\n",
       "</table>\n",
       "</div>"
      ],
      "text/plain": [
       "   outcome     bid_id  av_auctions  merchandise_type\n",
       "0      0.0  24.341149    58.070707          1.000532\n",
       "1      1.0  27.606667   145.038835          1.000000"
      ]
     },
     "execution_count": 116,
     "metadata": {},
     "output_type": "execute_result"
    }
   ],
   "source": [
    "merch= merch.groupby (['outcome'], as_index= False).agg ({'merchandise':'mean'}) \n",
    "\n",
    "Final ['merchandise_type']= merch ['merchandise']\n",
    "Final"
   ]
  },
  {
   "cell_type": "code",
   "execution_count": 92,
   "id": "0bb67339",
   "metadata": {},
   "outputs": [
    {
     "data": {
      "text/plain": [
       "<AxesSubplot:>"
      ]
     },
     "execution_count": 92,
     "metadata": {},
     "output_type": "execute_result"
    },
    {
     "data": {
      "image/png": "[encoded data removed]",
      "text/plain": [
       "<Figure size 432x288 with 1 Axes>"
      ]
     },
     "metadata": {
      "needs_background": "light"
     },
     "output_type": "display_data"
    }
   ],
   "source": [
    "Final[ ['bid_id', 'av_auctions', 'merchandise_type']].plot(kind=\"bar\")"
   ]
  },
  {
   "cell_type": "markdown",
   "id": "59a564a6",
   "metadata": {},
   "source": [
    "Now we'll look at the time difference between two successive bids"
   ]
  },
  {
   "cell_type": "code",
   "execution_count": 171,
   "id": "50eec52f",
   "metadata": {},
   "outputs": [
    {
     "data": {
      "text/html": [
       "<div>\n",
       "<style scoped>\n",
       "    .dataframe tbody tr th:only-of-type {\n",
       "        vertical-align: middle;\n",
       "    }\n",
       "\n",
       "    .dataframe tbody tr th {\n",
       "        vertical-align: top;\n",
       "    }\n",
       "\n",
       "    .dataframe thead th {\n",
       "        text-align: right;\n",
       "    }\n",
       "</style>\n",
       "<table border=\"1\" class=\"dataframe\">\n",
       "  <thead>\n",
       "    <tr style=\"text-align: right;\">\n",
       "      <th></th>\n",
       "      <th>time</th>\n",
       "    </tr>\n",
       "  </thead>\n",
       "  <tbody>\n",
       "    <tr>\n",
       "      <th>3071003</th>\n",
       "      <td>NaN</td>\n",
       "    </tr>\n",
       "    <tr>\n",
       "      <th>3070971</th>\n",
       "      <td>NaN</td>\n",
       "    </tr>\n",
       "    <tr>\n",
       "      <th>3032540</th>\n",
       "      <td>NaN</td>\n",
       "    </tr>\n",
       "    <tr>\n",
       "      <th>3032541</th>\n",
       "      <td>8.853158e+11</td>\n",
       "    </tr>\n",
       "    <tr>\n",
       "      <th>3032542</th>\n",
       "      <td>1.020526e+11</td>\n",
       "    </tr>\n",
       "    <tr>\n",
       "      <th>...</th>\n",
       "      <td>...</td>\n",
       "    </tr>\n",
       "    <tr>\n",
       "      <th>3037888</th>\n",
       "      <td>3.072632e+12</td>\n",
       "    </tr>\n",
       "    <tr>\n",
       "      <th>3037889</th>\n",
       "      <td>1.653895e+12</td>\n",
       "    </tr>\n",
       "    <tr>\n",
       "      <th>3037890</th>\n",
       "      <td>2.886000e+12</td>\n",
       "    </tr>\n",
       "    <tr>\n",
       "      <th>3037891</th>\n",
       "      <td>6.044211e+11</td>\n",
       "    </tr>\n",
       "    <tr>\n",
       "      <th>3070991</th>\n",
       "      <td>NaN</td>\n",
       "    </tr>\n",
       "  </tbody>\n",
       "</table>\n",
       "<p>3071224 rows × 1 columns</p>\n",
       "</div>"
      ],
      "text/plain": [
       "                 time\n",
       "3071003           NaN\n",
       "3070971           NaN\n",
       "3032540           NaN\n",
       "3032541  8.853158e+11\n",
       "3032542  1.020526e+11\n",
       "...               ...\n",
       "3037888  3.072632e+12\n",
       "3037889  1.653895e+12\n",
       "3037890  2.886000e+12\n",
       "3037891  6.044211e+11\n",
       "3070991           NaN\n",
       "\n",
       "[3071224 rows x 1 columns]"
      ]
     },
     "execution_count": 171,
     "metadata": {},
     "output_type": "execute_result"
    }
   ],
   "source": [
    "#Find the interval between two successive bids by the same bidder.  First bids and bidders who\n",
    "#made only one bid will get 'NaN' as value.\n",
    "time_diff1 = df_outcomes.sort_values (['bidder_id', 'time'])\n",
    "time_diff2 = time_diff1.groupby('bidder_id')[['time']].diff()\n",
    "time_diff2"
   ]
  },
  {
   "cell_type": "code",
   "execution_count": 172,
   "id": "60178796",
   "metadata": {},
   "outputs": [
    {
     "data": {
      "text/html": [
       "<div>\n",
       "<style scoped>\n",
       "    .dataframe tbody tr th:only-of-type {\n",
       "        vertical-align: middle;\n",
       "    }\n",
       "\n",
       "    .dataframe tbody tr th {\n",
       "        vertical-align: top;\n",
       "    }\n",
       "\n",
       "    .dataframe thead th {\n",
       "        text-align: right;\n",
       "    }\n",
       "</style>\n",
       "<table border=\"1\" class=\"dataframe\">\n",
       "  <thead>\n",
       "    <tr style=\"text-align: right;\">\n",
       "      <th></th>\n",
       "      <th>bid_id</th>\n",
       "      <th>bidder_id</th>\n",
       "      <th>auction</th>\n",
       "      <th>merchandise</th>\n",
       "      <th>device</th>\n",
       "      <th>time</th>\n",
       "      <th>country</th>\n",
       "      <th>ip</th>\n",
       "      <th>url</th>\n",
       "      <th>payment_account</th>\n",
       "      <th>address</th>\n",
       "      <th>outcome</th>\n",
       "      <th>time_diff</th>\n",
       "    </tr>\n",
       "  </thead>\n",
       "  <tbody>\n",
       "    <tr>\n",
       "      <th>3071003</th>\n",
       "      <td>7179832</td>\n",
       "      <td>001068c415025a009fee375a12cff4fcnht8y</td>\n",
       "      <td>4ifac</td>\n",
       "      <td>jewelry</td>\n",
       "      <td>phone561</td>\n",
       "      <td>9706345052631578</td>\n",
       "      <td>bn</td>\n",
       "      <td>139.226.147.115</td>\n",
       "      <td>vasstdc27m7nks3</td>\n",
       "      <td>a3d2de7675556553a5f08e4c88d2c228iiasc</td>\n",
       "      <td>a3d2de7675556553a5f08e4c88d2c2282aj35</td>\n",
       "      <td>0.0</td>\n",
       "      <td>NaN</td>\n",
       "    </tr>\n",
       "    <tr>\n",
       "      <th>3070971</th>\n",
       "      <td>6805028</td>\n",
       "      <td>0030a2dd87ad2733e0873062e4f83954mkj86</td>\n",
       "      <td>obbny</td>\n",
       "      <td>mobile</td>\n",
       "      <td>phone313</td>\n",
       "      <td>9704553947368421</td>\n",
       "      <td>ir</td>\n",
       "      <td>21.67.17.162</td>\n",
       "      <td>vnw40k8zzokijsv</td>\n",
       "      <td>a3d2de7675556553a5f08e4c88d2c228jem8t</td>\n",
       "      <td>f3bc67b04b43c3cebd1db5ed4941874c9br67</td>\n",
       "      <td>0.0</td>\n",
       "      <td>NaN</td>\n",
       "    </tr>\n",
       "    <tr>\n",
       "      <th>3032540</th>\n",
       "      <td>2501797</td>\n",
       "      <td>00a0517965f18610417ee784a05f494d4dw6e</td>\n",
       "      <td>l3o6q</td>\n",
       "      <td>books and music</td>\n",
       "      <td>phone451</td>\n",
       "      <td>9632299631578947</td>\n",
       "      <td>bh</td>\n",
       "      <td>103.165.41.136</td>\n",
       "      <td>kk7rxe25ehseyci</td>\n",
       "      <td>52743ba515e9c1279ac76e19f00c0b001p3pm</td>\n",
       "      <td>7578f951008bd0b64528bf81b8578d5djy0uy</td>\n",
       "      <td>0.0</td>\n",
       "      <td>NaN</td>\n",
       "    </tr>\n",
       "    <tr>\n",
       "      <th>3032541</th>\n",
       "      <td>2724778</td>\n",
       "      <td>00a0517965f18610417ee784a05f494d4dw6e</td>\n",
       "      <td>du967</td>\n",
       "      <td>books and music</td>\n",
       "      <td>phone117</td>\n",
       "      <td>9633184947368421</td>\n",
       "      <td>tr</td>\n",
       "      <td>239.250.228.152</td>\n",
       "      <td>iu2iu3k137vakme</td>\n",
       "      <td>52743ba515e9c1279ac76e19f00c0b001p3pm</td>\n",
       "      <td>7578f951008bd0b64528bf81b8578d5djy0uy</td>\n",
       "      <td>0.0</td>\n",
       "      <td>8.853158e+11</td>\n",
       "    </tr>\n",
       "    <tr>\n",
       "      <th>3032542</th>\n",
       "      <td>2742648</td>\n",
       "      <td>00a0517965f18610417ee784a05f494d4dw6e</td>\n",
       "      <td>wx3kf</td>\n",
       "      <td>books and music</td>\n",
       "      <td>phone16</td>\n",
       "      <td>9633287000000000</td>\n",
       "      <td>in</td>\n",
       "      <td>255.108.248.101</td>\n",
       "      <td>u85yj2e7owkz6xp</td>\n",
       "      <td>52743ba515e9c1279ac76e19f00c0b001p3pm</td>\n",
       "      <td>7578f951008bd0b64528bf81b8578d5djy0uy</td>\n",
       "      <td>0.0</td>\n",
       "      <td>1.020526e+11</td>\n",
       "    </tr>\n",
       "    <tr>\n",
       "      <th>...</th>\n",
       "      <td>...</td>\n",
       "      <td>...</td>\n",
       "      <td>...</td>\n",
       "      <td>...</td>\n",
       "      <td>...</td>\n",
       "      <td>...</td>\n",
       "      <td>...</td>\n",
       "      <td>...</td>\n",
       "      <td>...</td>\n",
       "      <td>...</td>\n",
       "      <td>...</td>\n",
       "      <td>...</td>\n",
       "      <td>...</td>\n",
       "    </tr>\n",
       "    <tr>\n",
       "      <th>3037888</th>\n",
       "      <td>6553635</td>\n",
       "      <td>ffc4e2dd2cc08249f299cab46ecbfacfobmr3</td>\n",
       "      <td>x28vd</td>\n",
       "      <td>mobile</td>\n",
       "      <td>phone68</td>\n",
       "      <td>9703232368421052</td>\n",
       "      <td>in</td>\n",
       "      <td>68.216.60.120</td>\n",
       "      <td>on2abswwj7d1ag7</td>\n",
       "      <td>15599f95d9b93471115524963ca2be217u8m4</td>\n",
       "      <td>ae8ea67c5321d60e9b34cc779488d081rbqkb</td>\n",
       "      <td>0.0</td>\n",
       "      <td>3.072632e+12</td>\n",
       "    </tr>\n",
       "    <tr>\n",
       "      <th>3037889</th>\n",
       "      <td>6899966</td>\n",
       "      <td>ffc4e2dd2cc08249f299cab46ecbfacfobmr3</td>\n",
       "      <td>cpztg</td>\n",
       "      <td>mobile</td>\n",
       "      <td>phone57</td>\n",
       "      <td>9704886263157894</td>\n",
       "      <td>in</td>\n",
       "      <td>60.90.232.85</td>\n",
       "      <td>v4k3ro0ulspuq3n</td>\n",
       "      <td>15599f95d9b93471115524963ca2be217u8m4</td>\n",
       "      <td>ae8ea67c5321d60e9b34cc779488d081rbqkb</td>\n",
       "      <td>0.0</td>\n",
       "      <td>1.653895e+12</td>\n",
       "    </tr>\n",
       "    <tr>\n",
       "      <th>3037890</th>\n",
       "      <td>7377121</td>\n",
       "      <td>ffc4e2dd2cc08249f299cab46ecbfacfobmr3</td>\n",
       "      <td>enf1x</td>\n",
       "      <td>mobile</td>\n",
       "      <td>phone76</td>\n",
       "      <td>9707772263157894</td>\n",
       "      <td>ng</td>\n",
       "      <td>79.120.254.209</td>\n",
       "      <td>9s29kzk5tpo0sax</td>\n",
       "      <td>15599f95d9b93471115524963ca2be217u8m4</td>\n",
       "      <td>ae8ea67c5321d60e9b34cc779488d081rbqkb</td>\n",
       "      <td>0.0</td>\n",
       "      <td>2.886000e+12</td>\n",
       "    </tr>\n",
       "    <tr>\n",
       "      <th>3037891</th>\n",
       "      <td>7483918</td>\n",
       "      <td>ffc4e2dd2cc08249f299cab46ecbfacfobmr3</td>\n",
       "      <td>9ul86</td>\n",
       "      <td>mobile</td>\n",
       "      <td>phone25</td>\n",
       "      <td>9708376684210526</td>\n",
       "      <td>ng</td>\n",
       "      <td>113.76.102.6</td>\n",
       "      <td>cnco8tom1nxvtlb</td>\n",
       "      <td>15599f95d9b93471115524963ca2be217u8m4</td>\n",
       "      <td>ae8ea67c5321d60e9b34cc779488d081rbqkb</td>\n",
       "      <td>0.0</td>\n",
       "      <td>6.044211e+11</td>\n",
       "    </tr>\n",
       "    <tr>\n",
       "      <th>3070991</th>\n",
       "      <td>6989098</td>\n",
       "      <td>fff2c070d8200e0a09150bd81452ce29ngcnv</td>\n",
       "      <td>2zggz</td>\n",
       "      <td>home goods</td>\n",
       "      <td>phone212</td>\n",
       "      <td>9705193473684210</td>\n",
       "      <td>th</td>\n",
       "      <td>211.163.219.144</td>\n",
       "      <td>vasstdc27m7nks3</td>\n",
       "      <td>a3d2de7675556553a5f08e4c88d2c228z3vlt</td>\n",
       "      <td>a3d2de7675556553a5f08e4c88d2c22840i82</td>\n",
       "      <td>0.0</td>\n",
       "      <td>NaN</td>\n",
       "    </tr>\n",
       "  </tbody>\n",
       "</table>\n",
       "<p>3071224 rows × 13 columns</p>\n",
       "</div>"
      ],
      "text/plain": [
       "          bid_id                              bidder_id auction  \\\n",
       "3071003  7179832  001068c415025a009fee375a12cff4fcnht8y   4ifac   \n",
       "3070971  6805028  0030a2dd87ad2733e0873062e4f83954mkj86   obbny   \n",
       "3032540  2501797  00a0517965f18610417ee784a05f494d4dw6e   l3o6q   \n",
       "3032541  2724778  00a0517965f18610417ee784a05f494d4dw6e   du967   \n",
       "3032542  2742648  00a0517965f18610417ee784a05f494d4dw6e   wx3kf   \n",
       "...          ...                                    ...     ...   \n",
       "3037888  6553635  ffc4e2dd2cc08249f299cab46ecbfacfobmr3   x28vd   \n",
       "3037889  6899966  ffc4e2dd2cc08249f299cab46ecbfacfobmr3   cpztg   \n",
       "3037890  7377121  ffc4e2dd2cc08249f299cab46ecbfacfobmr3   enf1x   \n",
       "3037891  7483918  ffc4e2dd2cc08249f299cab46ecbfacfobmr3   9ul86   \n",
       "3070991  6989098  fff2c070d8200e0a09150bd81452ce29ngcnv   2zggz   \n",
       "\n",
       "             merchandise    device              time country               ip  \\\n",
       "3071003          jewelry  phone561  9706345052631578      bn  139.226.147.115   \n",
       "3070971           mobile  phone313  9704553947368421      ir     21.67.17.162   \n",
       "3032540  books and music  phone451  9632299631578947      bh   103.165.41.136   \n",
       "3032541  books and music  phone117  9633184947368421      tr  239.250.228.152   \n",
       "3032542  books and music   phone16  9633287000000000      in  255.108.248.101   \n",
       "...                  ...       ...               ...     ...              ...   \n",
       "3037888           mobile   phone68  9703232368421052      in    68.216.60.120   \n",
       "3037889           mobile   phone57  9704886263157894      in     60.90.232.85   \n",
       "3037890           mobile   phone76  9707772263157894      ng   79.120.254.209   \n",
       "3037891           mobile   phone25  9708376684210526      ng     113.76.102.6   \n",
       "3070991       home goods  phone212  9705193473684210      th  211.163.219.144   \n",
       "\n",
       "                     url                        payment_account  \\\n",
       "3071003  vasstdc27m7nks3  a3d2de7675556553a5f08e4c88d2c228iiasc   \n",
       "3070971  vnw40k8zzokijsv  a3d2de7675556553a5f08e4c88d2c228jem8t   \n",
       "3032540  kk7rxe25ehseyci  52743ba515e9c1279ac76e19f00c0b001p3pm   \n",
       "3032541  iu2iu3k137vakme  52743ba515e9c1279ac76e19f00c0b001p3pm   \n",
       "3032542  u85yj2e7owkz6xp  52743ba515e9c1279ac76e19f00c0b001p3pm   \n",
       "...                  ...                                    ...   \n",
       "3037888  on2abswwj7d1ag7  15599f95d9b93471115524963ca2be217u8m4   \n",
       "3037889  v4k3ro0ulspuq3n  15599f95d9b93471115524963ca2be217u8m4   \n",
       "3037890  9s29kzk5tpo0sax  15599f95d9b93471115524963ca2be217u8m4   \n",
       "3037891  cnco8tom1nxvtlb  15599f95d9b93471115524963ca2be217u8m4   \n",
       "3070991  vasstdc27m7nks3  a3d2de7675556553a5f08e4c88d2c228z3vlt   \n",
       "\n",
       "                                       address  outcome     time_diff  \n",
       "3071003  a3d2de7675556553a5f08e4c88d2c2282aj35      0.0           NaN  \n",
       "3070971  f3bc67b04b43c3cebd1db5ed4941874c9br67      0.0           NaN  \n",
       "3032540  7578f951008bd0b64528bf81b8578d5djy0uy      0.0           NaN  \n",
       "3032541  7578f951008bd0b64528bf81b8578d5djy0uy      0.0  8.853158e+11  \n",
       "3032542  7578f951008bd0b64528bf81b8578d5djy0uy      0.0  1.020526e+11  \n",
       "...                                        ...      ...           ...  \n",
       "3037888  ae8ea67c5321d60e9b34cc779488d081rbqkb      0.0  3.072632e+12  \n",
       "3037889  ae8ea67c5321d60e9b34cc779488d081rbqkb      0.0  1.653895e+12  \n",
       "3037890  ae8ea67c5321d60e9b34cc779488d081rbqkb      0.0  2.886000e+12  \n",
       "3037891  ae8ea67c5321d60e9b34cc779488d081rbqkb      0.0  6.044211e+11  \n",
       "3070991  a3d2de7675556553a5f08e4c88d2c22840i82      0.0           NaN  \n",
       "\n",
       "[3071224 rows x 13 columns]"
      ]
     },
     "execution_count": 172,
     "metadata": {},
     "output_type": "execute_result"
    }
   ],
   "source": [
    "time_diff1['time_diff'] = time_diff2\n",
    "time_diff1"
   ]
  },
  {
   "cell_type": "code",
   "execution_count": 173,
   "id": "b1c0080e",
   "metadata": {},
   "outputs": [
    {
     "data": {
      "text/html": [
       "<div>\n",
       "<style scoped>\n",
       "    .dataframe tbody tr th:only-of-type {\n",
       "        vertical-align: middle;\n",
       "    }\n",
       "\n",
       "    .dataframe tbody tr th {\n",
       "        vertical-align: top;\n",
       "    }\n",
       "\n",
       "    .dataframe thead th {\n",
       "        text-align: right;\n",
       "    }\n",
       "</style>\n",
       "<table border=\"1\" class=\"dataframe\">\n",
       "  <thead>\n",
       "    <tr style=\"text-align: right;\">\n",
       "      <th></th>\n",
       "      <th>bid_id</th>\n",
       "      <th>bidder_id</th>\n",
       "      <th>auction</th>\n",
       "      <th>merchandise</th>\n",
       "      <th>device</th>\n",
       "      <th>time</th>\n",
       "      <th>country</th>\n",
       "      <th>ip</th>\n",
       "      <th>url</th>\n",
       "      <th>payment_account</th>\n",
       "      <th>address</th>\n",
       "      <th>outcome</th>\n",
       "      <th>time_diff</th>\n",
       "    </tr>\n",
       "  </thead>\n",
       "  <tbody>\n",
       "    <tr>\n",
       "      <th>3032541</th>\n",
       "      <td>2724778</td>\n",
       "      <td>00a0517965f18610417ee784a05f494d4dw6e</td>\n",
       "      <td>du967</td>\n",
       "      <td>books and music</td>\n",
       "      <td>phone117</td>\n",
       "      <td>9633184947368421</td>\n",
       "      <td>tr</td>\n",
       "      <td>239.250.228.152</td>\n",
       "      <td>iu2iu3k137vakme</td>\n",
       "      <td>52743ba515e9c1279ac76e19f00c0b001p3pm</td>\n",
       "      <td>7578f951008bd0b64528bf81b8578d5djy0uy</td>\n",
       "      <td>0.0</td>\n",
       "      <td>8.853158e+11</td>\n",
       "    </tr>\n",
       "    <tr>\n",
       "      <th>3032542</th>\n",
       "      <td>2742648</td>\n",
       "      <td>00a0517965f18610417ee784a05f494d4dw6e</td>\n",
       "      <td>wx3kf</td>\n",
       "      <td>books and music</td>\n",
       "      <td>phone16</td>\n",
       "      <td>9633287000000000</td>\n",
       "      <td>in</td>\n",
       "      <td>255.108.248.101</td>\n",
       "      <td>u85yj2e7owkz6xp</td>\n",
       "      <td>52743ba515e9c1279ac76e19f00c0b001p3pm</td>\n",
       "      <td>7578f951008bd0b64528bf81b8578d5djy0uy</td>\n",
       "      <td>0.0</td>\n",
       "      <td>1.020526e+11</td>\n",
       "    </tr>\n",
       "    <tr>\n",
       "      <th>3032543</th>\n",
       "      <td>2852666</td>\n",
       "      <td>00a0517965f18610417ee784a05f494d4dw6e</td>\n",
       "      <td>gb2b8</td>\n",
       "      <td>books and music</td>\n",
       "      <td>phone1008</td>\n",
       "      <td>9634158210526315</td>\n",
       "      <td>id</td>\n",
       "      <td>255.107.151.243</td>\n",
       "      <td>kk7rxe25ehseyci</td>\n",
       "      <td>52743ba515e9c1279ac76e19f00c0b001p3pm</td>\n",
       "      <td>7578f951008bd0b64528bf81b8578d5djy0uy</td>\n",
       "      <td>0.0</td>\n",
       "      <td>8.712105e+11</td>\n",
       "    </tr>\n",
       "    <tr>\n",
       "      <th>3032544</th>\n",
       "      <td>2915632</td>\n",
       "      <td>00a0517965f18610417ee784a05f494d4dw6e</td>\n",
       "      <td>cci6c</td>\n",
       "      <td>books and music</td>\n",
       "      <td>phone154</td>\n",
       "      <td>9634606052631578</td>\n",
       "      <td>ng</td>\n",
       "      <td>37.95.134.218</td>\n",
       "      <td>vasstdc27m7nks3</td>\n",
       "      <td>52743ba515e9c1279ac76e19f00c0b001p3pm</td>\n",
       "      <td>7578f951008bd0b64528bf81b8578d5djy0uy</td>\n",
       "      <td>0.0</td>\n",
       "      <td>4.478421e+11</td>\n",
       "    </tr>\n",
       "    <tr>\n",
       "      <th>3032545</th>\n",
       "      <td>3980517</td>\n",
       "      <td>00a0517965f18610417ee784a05f494d4dw6e</td>\n",
       "      <td>bpil5</td>\n",
       "      <td>books and music</td>\n",
       "      <td>phone419</td>\n",
       "      <td>9640088105263157</td>\n",
       "      <td>in</td>\n",
       "      <td>58.209.11.187</td>\n",
       "      <td>jynce1r4nc22vrd</td>\n",
       "      <td>52743ba515e9c1279ac76e19f00c0b001p3pm</td>\n",
       "      <td>7578f951008bd0b64528bf81b8578d5djy0uy</td>\n",
       "      <td>0.0</td>\n",
       "      <td>5.482053e+12</td>\n",
       "    </tr>\n",
       "    <tr>\n",
       "      <th>...</th>\n",
       "      <td>...</td>\n",
       "      <td>...</td>\n",
       "      <td>...</td>\n",
       "      <td>...</td>\n",
       "      <td>...</td>\n",
       "      <td>...</td>\n",
       "      <td>...</td>\n",
       "      <td>...</td>\n",
       "      <td>...</td>\n",
       "      <td>...</td>\n",
       "      <td>...</td>\n",
       "      <td>...</td>\n",
       "      <td>...</td>\n",
       "    </tr>\n",
       "    <tr>\n",
       "      <th>3037887</th>\n",
       "      <td>6032533</td>\n",
       "      <td>ffc4e2dd2cc08249f299cab46ecbfacfobmr3</td>\n",
       "      <td>l8qqr</td>\n",
       "      <td>mobile</td>\n",
       "      <td>phone317</td>\n",
       "      <td>9700159736842105</td>\n",
       "      <td>bd</td>\n",
       "      <td>57.101.190.69</td>\n",
       "      <td>vasstdc27m7nks3</td>\n",
       "      <td>15599f95d9b93471115524963ca2be217u8m4</td>\n",
       "      <td>ae8ea67c5321d60e9b34cc779488d081rbqkb</td>\n",
       "      <td>0.0</td>\n",
       "      <td>6.889474e+10</td>\n",
       "    </tr>\n",
       "    <tr>\n",
       "      <th>3037888</th>\n",
       "      <td>6553635</td>\n",
       "      <td>ffc4e2dd2cc08249f299cab46ecbfacfobmr3</td>\n",
       "      <td>x28vd</td>\n",
       "      <td>mobile</td>\n",
       "      <td>phone68</td>\n",
       "      <td>9703232368421052</td>\n",
       "      <td>in</td>\n",
       "      <td>68.216.60.120</td>\n",
       "      <td>on2abswwj7d1ag7</td>\n",
       "      <td>15599f95d9b93471115524963ca2be217u8m4</td>\n",
       "      <td>ae8ea67c5321d60e9b34cc779488d081rbqkb</td>\n",
       "      <td>0.0</td>\n",
       "      <td>3.072632e+12</td>\n",
       "    </tr>\n",
       "    <tr>\n",
       "      <th>3037889</th>\n",
       "      <td>6899966</td>\n",
       "      <td>ffc4e2dd2cc08249f299cab46ecbfacfobmr3</td>\n",
       "      <td>cpztg</td>\n",
       "      <td>mobile</td>\n",
       "      <td>phone57</td>\n",
       "      <td>9704886263157894</td>\n",
       "      <td>in</td>\n",
       "      <td>60.90.232.85</td>\n",
       "      <td>v4k3ro0ulspuq3n</td>\n",
       "      <td>15599f95d9b93471115524963ca2be217u8m4</td>\n",
       "      <td>ae8ea67c5321d60e9b34cc779488d081rbqkb</td>\n",
       "      <td>0.0</td>\n",
       "      <td>1.653895e+12</td>\n",
       "    </tr>\n",
       "    <tr>\n",
       "      <th>3037890</th>\n",
       "      <td>7377121</td>\n",
       "      <td>ffc4e2dd2cc08249f299cab46ecbfacfobmr3</td>\n",
       "      <td>enf1x</td>\n",
       "      <td>mobile</td>\n",
       "      <td>phone76</td>\n",
       "      <td>9707772263157894</td>\n",
       "      <td>ng</td>\n",
       "      <td>79.120.254.209</td>\n",
       "      <td>9s29kzk5tpo0sax</td>\n",
       "      <td>15599f95d9b93471115524963ca2be217u8m4</td>\n",
       "      <td>ae8ea67c5321d60e9b34cc779488d081rbqkb</td>\n",
       "      <td>0.0</td>\n",
       "      <td>2.886000e+12</td>\n",
       "    </tr>\n",
       "    <tr>\n",
       "      <th>3037891</th>\n",
       "      <td>7483918</td>\n",
       "      <td>ffc4e2dd2cc08249f299cab46ecbfacfobmr3</td>\n",
       "      <td>9ul86</td>\n",
       "      <td>mobile</td>\n",
       "      <td>phone25</td>\n",
       "      <td>9708376684210526</td>\n",
       "      <td>ng</td>\n",
       "      <td>113.76.102.6</td>\n",
       "      <td>cnco8tom1nxvtlb</td>\n",
       "      <td>15599f95d9b93471115524963ca2be217u8m4</td>\n",
       "      <td>ae8ea67c5321d60e9b34cc779488d081rbqkb</td>\n",
       "      <td>0.0</td>\n",
       "      <td>6.044211e+11</td>\n",
       "    </tr>\n",
       "  </tbody>\n",
       "</table>\n",
       "<p>3069240 rows × 13 columns</p>\n",
       "</div>"
      ],
      "text/plain": [
       "          bid_id                              bidder_id auction  \\\n",
       "3032541  2724778  00a0517965f18610417ee784a05f494d4dw6e   du967   \n",
       "3032542  2742648  00a0517965f18610417ee784a05f494d4dw6e   wx3kf   \n",
       "3032543  2852666  00a0517965f18610417ee784a05f494d4dw6e   gb2b8   \n",
       "3032544  2915632  00a0517965f18610417ee784a05f494d4dw6e   cci6c   \n",
       "3032545  3980517  00a0517965f18610417ee784a05f494d4dw6e   bpil5   \n",
       "...          ...                                    ...     ...   \n",
       "3037887  6032533  ffc4e2dd2cc08249f299cab46ecbfacfobmr3   l8qqr   \n",
       "3037888  6553635  ffc4e2dd2cc08249f299cab46ecbfacfobmr3   x28vd   \n",
       "3037889  6899966  ffc4e2dd2cc08249f299cab46ecbfacfobmr3   cpztg   \n",
       "3037890  7377121  ffc4e2dd2cc08249f299cab46ecbfacfobmr3   enf1x   \n",
       "3037891  7483918  ffc4e2dd2cc08249f299cab46ecbfacfobmr3   9ul86   \n",
       "\n",
       "             merchandise     device              time country  \\\n",
       "3032541  books and music   phone117  9633184947368421      tr   \n",
       "3032542  books and music    phone16  9633287000000000      in   \n",
       "3032543  books and music  phone1008  9634158210526315      id   \n",
       "3032544  books and music   phone154  9634606052631578      ng   \n",
       "3032545  books and music   phone419  9640088105263157      in   \n",
       "...                  ...        ...               ...     ...   \n",
       "3037887           mobile   phone317  9700159736842105      bd   \n",
       "3037888           mobile    phone68  9703232368421052      in   \n",
       "3037889           mobile    phone57  9704886263157894      in   \n",
       "3037890           mobile    phone76  9707772263157894      ng   \n",
       "3037891           mobile    phone25  9708376684210526      ng   \n",
       "\n",
       "                      ip              url  \\\n",
       "3032541  239.250.228.152  iu2iu3k137vakme   \n",
       "3032542  255.108.248.101  u85yj2e7owkz6xp   \n",
       "3032543  255.107.151.243  kk7rxe25ehseyci   \n",
       "3032544    37.95.134.218  vasstdc27m7nks3   \n",
       "3032545    58.209.11.187  jynce1r4nc22vrd   \n",
       "...                  ...              ...   \n",
       "3037887    57.101.190.69  vasstdc27m7nks3   \n",
       "3037888    68.216.60.120  on2abswwj7d1ag7   \n",
       "3037889     60.90.232.85  v4k3ro0ulspuq3n   \n",
       "3037890   79.120.254.209  9s29kzk5tpo0sax   \n",
       "3037891     113.76.102.6  cnco8tom1nxvtlb   \n",
       "\n",
       "                               payment_account  \\\n",
       "3032541  52743ba515e9c1279ac76e19f00c0b001p3pm   \n",
       "3032542  52743ba515e9c1279ac76e19f00c0b001p3pm   \n",
       "3032543  52743ba515e9c1279ac76e19f00c0b001p3pm   \n",
       "3032544  52743ba515e9c1279ac76e19f00c0b001p3pm   \n",
       "3032545  52743ba515e9c1279ac76e19f00c0b001p3pm   \n",
       "...                                        ...   \n",
       "3037887  15599f95d9b93471115524963ca2be217u8m4   \n",
       "3037888  15599f95d9b93471115524963ca2be217u8m4   \n",
       "3037889  15599f95d9b93471115524963ca2be217u8m4   \n",
       "3037890  15599f95d9b93471115524963ca2be217u8m4   \n",
       "3037891  15599f95d9b93471115524963ca2be217u8m4   \n",
       "\n",
       "                                       address  outcome     time_diff  \n",
       "3032541  7578f951008bd0b64528bf81b8578d5djy0uy      0.0  8.853158e+11  \n",
       "3032542  7578f951008bd0b64528bf81b8578d5djy0uy      0.0  1.020526e+11  \n",
       "3032543  7578f951008bd0b64528bf81b8578d5djy0uy      0.0  8.712105e+11  \n",
       "3032544  7578f951008bd0b64528bf81b8578d5djy0uy      0.0  4.478421e+11  \n",
       "3032545  7578f951008bd0b64528bf81b8578d5djy0uy      0.0  5.482053e+12  \n",
       "...                                        ...      ...           ...  \n",
       "3037887  ae8ea67c5321d60e9b34cc779488d081rbqkb      0.0  6.889474e+10  \n",
       "3037888  ae8ea67c5321d60e9b34cc779488d081rbqkb      0.0  3.072632e+12  \n",
       "3037889  ae8ea67c5321d60e9b34cc779488d081rbqkb      0.0  1.653895e+12  \n",
       "3037890  ae8ea67c5321d60e9b34cc779488d081rbqkb      0.0  2.886000e+12  \n",
       "3037891  ae8ea67c5321d60e9b34cc779488d081rbqkb      0.0  6.044211e+11  \n",
       "\n",
       "[3069240 rows x 13 columns]"
      ]
     },
     "execution_count": 173,
     "metadata": {},
     "output_type": "execute_result"
    }
   ],
   "source": [
    "#Drop the \"NaN\", to keep only successive bids:\n",
    "time_diff =  time_diff1[time_diff1.time_diff.notnull()]\n",
    "\n",
    "time_diff\n"
   ]
  },
  {
   "cell_type": "code",
   "execution_count": 174,
   "id": "3510e88f",
   "metadata": {},
   "outputs": [
    {
     "data": {
      "text/html": [
       "<div>\n",
       "<style scoped>\n",
       "    .dataframe tbody tr th:only-of-type {\n",
       "        vertical-align: middle;\n",
       "    }\n",
       "\n",
       "    .dataframe tbody tr th {\n",
       "        vertical-align: top;\n",
       "    }\n",
       "\n",
       "    .dataframe thead th {\n",
       "        text-align: right;\n",
       "    }\n",
       "</style>\n",
       "<table border=\"1\" class=\"dataframe\">\n",
       "  <thead>\n",
       "    <tr style=\"text-align: right;\">\n",
       "      <th></th>\n",
       "      <th>outcome</th>\n",
       "      <th>bidder_id</th>\n",
       "      <th>time_diff</th>\n",
       "    </tr>\n",
       "  </thead>\n",
       "  <tbody>\n",
       "    <tr>\n",
       "      <th>0</th>\n",
       "      <td>0.0</td>\n",
       "      <td>00a0517965f18610417ee784a05f494d4dw6e</td>\n",
       "      <td>5.486831e+11</td>\n",
       "    </tr>\n",
       "    <tr>\n",
       "      <th>1</th>\n",
       "      <td>0.0</td>\n",
       "      <td>00cc97158e6f4cb8eac3c0075918b7ffi5k8o</td>\n",
       "      <td>2.748400e+13</td>\n",
       "    </tr>\n",
       "    <tr>\n",
       "      <th>2</th>\n",
       "      <td>0.0</td>\n",
       "      <td>01067975436d123f717ee5aba0dd4bbfa0937</td>\n",
       "      <td>2.507283e+10</td>\n",
       "    </tr>\n",
       "    <tr>\n",
       "      <th>3</th>\n",
       "      <td>0.0</td>\n",
       "      <td>012441119bcf83b23d4768bb72cea6d6carua</td>\n",
       "      <td>5.622344e+11</td>\n",
       "    </tr>\n",
       "    <tr>\n",
       "      <th>4</th>\n",
       "      <td>0.0</td>\n",
       "      <td>01255c2c7c5578c186873422fc00fd7afwk8k</td>\n",
       "      <td>2.074860e+11</td>\n",
       "    </tr>\n",
       "    <tr>\n",
       "      <th>...</th>\n",
       "      <td>...</td>\n",
       "      <td>...</td>\n",
       "      <td>...</td>\n",
       "    </tr>\n",
       "    <tr>\n",
       "      <th>1677</th>\n",
       "      <td>1.0</td>\n",
       "      <td>e268d06507859d78894a8f6e11995f48zls7t</td>\n",
       "      <td>1.906603e+10</td>\n",
       "    </tr>\n",
       "    <tr>\n",
       "      <th>1678</th>\n",
       "      <td>1.0</td>\n",
       "      <td>e56f611f1157381f4b689ab34b574e791qhcn</td>\n",
       "      <td>2.114297e+10</td>\n",
       "    </tr>\n",
       "    <tr>\n",
       "      <th>1679</th>\n",
       "      <td>1.0</td>\n",
       "      <td>efc61ad6db17265a4bac85f77b154ef414tpp</td>\n",
       "      <td>1.516000e+12</td>\n",
       "    </tr>\n",
       "    <tr>\n",
       "      <th>1680</th>\n",
       "      <td>1.0</td>\n",
       "      <td>f2f10539ed947e4b141b2e9bf21af65ecz4f7</td>\n",
       "      <td>1.006970e+10</td>\n",
       "    </tr>\n",
       "    <tr>\n",
       "      <th>1681</th>\n",
       "      <td>1.0</td>\n",
       "      <td>fae553f133602fba6e9e6051dfb27fefkruax</td>\n",
       "      <td>4.944873e+10</td>\n",
       "    </tr>\n",
       "  </tbody>\n",
       "</table>\n",
       "<p>1682 rows × 3 columns</p>\n",
       "</div>"
      ],
      "text/plain": [
       "      outcome                              bidder_id     time_diff\n",
       "0         0.0  00a0517965f18610417ee784a05f494d4dw6e  5.486831e+11\n",
       "1         0.0  00cc97158e6f4cb8eac3c0075918b7ffi5k8o  2.748400e+13\n",
       "2         0.0  01067975436d123f717ee5aba0dd4bbfa0937  2.507283e+10\n",
       "3         0.0  012441119bcf83b23d4768bb72cea6d6carua  5.622344e+11\n",
       "4         0.0  01255c2c7c5578c186873422fc00fd7afwk8k  2.074860e+11\n",
       "...       ...                                    ...           ...\n",
       "1677      1.0  e268d06507859d78894a8f6e11995f48zls7t  1.906603e+10\n",
       "1678      1.0  e56f611f1157381f4b689ab34b574e791qhcn  2.114297e+10\n",
       "1679      1.0  efc61ad6db17265a4bac85f77b154ef414tpp  1.516000e+12\n",
       "1680      1.0  f2f10539ed947e4b141b2e9bf21af65ecz4f7  1.006970e+10\n",
       "1681      1.0  fae553f133602fba6e9e6051dfb27fefkruax  4.944873e+10\n",
       "\n",
       "[1682 rows x 3 columns]"
      ]
     },
     "execution_count": 174,
     "metadata": {},
     "output_type": "execute_result"
    }
   ],
   "source": [
    "#average interval for each bidder:\n",
    "time_diff= time_diff.groupby (['outcome', 'bidder_id'], as_index= False).agg ({'time_diff':'mean'}) \n",
    "\n",
    "time_diff"
   ]
  },
  {
   "cell_type": "code",
   "execution_count": 175,
   "id": "2b150a42",
   "metadata": {},
   "outputs": [
    {
     "data": {
      "text/plain": [
       "<AxesSubplot:xlabel='outcome', ylabel='time_diff'>"
      ]
     },
     "execution_count": 175,
     "metadata": {},
     "output_type": "execute_result"
    },
    {
     "data": {
      "image/png": "[encoded data removed]",
      "text/plain": [
       "<Figure size 432x288 with 1 Axes>"
      ]
     },
     "metadata": {
      "needs_background": "light"
     },
     "output_type": "display_data"
    }
   ],
   "source": [
    "time_diff.plot (kind = 'scatter', x = 'outcome', y = 'time_diff')"
   ]
  },
  {
   "cell_type": "code",
   "execution_count": 176,
   "id": "eebbb067",
   "metadata": {},
   "outputs": [
    {
     "data": {
      "text/html": [
       "<div>\n",
       "<style scoped>\n",
       "    .dataframe tbody tr th:only-of-type {\n",
       "        vertical-align: middle;\n",
       "    }\n",
       "\n",
       "    .dataframe tbody tr th {\n",
       "        vertical-align: top;\n",
       "    }\n",
       "\n",
       "    .dataframe thead th {\n",
       "        text-align: right;\n",
       "    }\n",
       "</style>\n",
       "<table border=\"1\" class=\"dataframe\">\n",
       "  <thead>\n",
       "    <tr style=\"text-align: right;\">\n",
       "      <th></th>\n",
       "      <th>outcome</th>\n",
       "      <th>time_diff</th>\n",
       "    </tr>\n",
       "  </thead>\n",
       "  <tbody>\n",
       "    <tr>\n",
       "      <th>0</th>\n",
       "      <td>0.0</td>\n",
       "      <td>3.395101e+12</td>\n",
       "    </tr>\n",
       "    <tr>\n",
       "      <th>1</th>\n",
       "      <td>1.0</td>\n",
       "      <td>5.332332e+10</td>\n",
       "    </tr>\n",
       "  </tbody>\n",
       "</table>\n",
       "</div>"
      ],
      "text/plain": [
       "   outcome     time_diff\n",
       "0      0.0  3.395101e+12\n",
       "1      1.0  5.332332e+10"
      ]
     },
     "execution_count": 176,
     "metadata": {},
     "output_type": "execute_result"
    }
   ],
   "source": [
    "#Average interval per bidder by type:\n",
    "time_diff= time_diff.groupby (['outcome', ], as_index= False).agg ({'time_diff':'mean'}) \n",
    "\n",
    "time_diff"
   ]
  },
  {
   "cell_type": "code",
   "execution_count": 177,
   "id": "e5685ed7",
   "metadata": {},
   "outputs": [
    {
     "data": {
      "text/html": [
       "<div>\n",
       "<style scoped>\n",
       "    .dataframe tbody tr th:only-of-type {\n",
       "        vertical-align: middle;\n",
       "    }\n",
       "\n",
       "    .dataframe tbody tr th {\n",
       "        vertical-align: top;\n",
       "    }\n",
       "\n",
       "    .dataframe thead th {\n",
       "        text-align: right;\n",
       "    }\n",
       "</style>\n",
       "<table border=\"1\" class=\"dataframe\">\n",
       "  <thead>\n",
       "    <tr style=\"text-align: right;\">\n",
       "      <th></th>\n",
       "      <th>outcome</th>\n",
       "      <th>bid_id</th>\n",
       "      <th>av_auctions</th>\n",
       "      <th>merchandise_type</th>\n",
       "      <th>time_diff</th>\n",
       "    </tr>\n",
       "  </thead>\n",
       "  <tbody>\n",
       "    <tr>\n",
       "      <th>0</th>\n",
       "      <td>0.0</td>\n",
       "      <td>24.341149</td>\n",
       "      <td>58.070707</td>\n",
       "      <td>1.000532</td>\n",
       "      <td>3.395101e+12</td>\n",
       "    </tr>\n",
       "    <tr>\n",
       "      <th>1</th>\n",
       "      <td>1.0</td>\n",
       "      <td>27.606667</td>\n",
       "      <td>145.038835</td>\n",
       "      <td>1.000000</td>\n",
       "      <td>5.332332e+10</td>\n",
       "    </tr>\n",
       "  </tbody>\n",
       "</table>\n",
       "</div>"
      ],
      "text/plain": [
       "   outcome     bid_id  av_auctions  merchandise_type     time_diff\n",
       "0      0.0  24.341149    58.070707          1.000532  3.395101e+12\n",
       "1      1.0  27.606667   145.038835          1.000000  5.332332e+10"
      ]
     },
     "execution_count": 177,
     "metadata": {},
     "output_type": "execute_result"
    }
   ],
   "source": [
    "Final ['time_diff']= time_diff ['time_diff']\n",
    "Final"
   ]
  },
  {
   "cell_type": "code",
   "execution_count": 179,
   "id": "dc24bfb1",
   "metadata": {},
   "outputs": [
    {
     "data": {
      "text/plain": [
       "<AxesSubplot:>"
      ]
     },
     "execution_count": 179,
     "metadata": {},
     "output_type": "execute_result"
    },
    {
     "data": {
      "image/png": "[encoded data removed]",
      "text/plain": [
       "<Figure size 432x288 with 1 Axes>"
      ]
     },
     "metadata": {
      "needs_background": "light"
     },
     "output_type": "display_data"
    }
   ],
   "source": [
    "Final[ ['bid_id', 'av_auctions', 'merchandise_type','time_diff']].plot(kind=\"bar\")"
   ]
  },
  {
   "cell_type": "markdown",
   "id": "c3f27fdf",
   "metadata": {},
   "source": [
    "No. of countries from which bids come, by type:"
   ]
  },
  {
   "cell_type": "code",
   "execution_count": 181,
   "id": "9c7bdda2",
   "metadata": {},
   "outputs": [
    {
     "data": {
      "text/plain": [
       "<AxesSubplot:xlabel='outcome', ylabel='country'>"
      ]
     },
     "execution_count": 181,
     "metadata": {},
     "output_type": "execute_result"
    },
    {
     "data": {
      "image/png": "[encoded data removed]",
      "text/plain": [
       "<Figure size 432x288 with 1 Axes>"
      ]
     },
     "metadata": {
      "needs_background": "light"
     },
     "output_type": "display_data"
    }
   ],
   "source": [
    "countries= df_outcomes.groupby (['outcome', 'bidder_id'], as_index= False).agg ({'country':'nunique'}) \n",
    "countries.plot (kind = 'scatter', x = 'outcome', y = 'country')"
   ]
  },
  {
   "cell_type": "code",
   "execution_count": 182,
   "id": "47721ea5",
   "metadata": {},
   "outputs": [
    {
     "data": {
      "text/html": [
       "<div>\n",
       "<style scoped>\n",
       "    .dataframe tbody tr th:only-of-type {\n",
       "        vertical-align: middle;\n",
       "    }\n",
       "\n",
       "    .dataframe tbody tr th {\n",
       "        vertical-align: top;\n",
       "    }\n",
       "\n",
       "    .dataframe thead th {\n",
       "        text-align: right;\n",
       "    }\n",
       "</style>\n",
       "<table border=\"1\" class=\"dataframe\">\n",
       "  <thead>\n",
       "    <tr style=\"text-align: right;\">\n",
       "      <th></th>\n",
       "      <th>outcome</th>\n",
       "      <th>country</th>\n",
       "    </tr>\n",
       "  </thead>\n",
       "  <tbody>\n",
       "    <tr>\n",
       "      <th>0</th>\n",
       "      <td>0.0</td>\n",
       "      <td>12.587453</td>\n",
       "    </tr>\n",
       "    <tr>\n",
       "      <th>1</th>\n",
       "      <td>1.0</td>\n",
       "      <td>26.320388</td>\n",
       "    </tr>\n",
       "  </tbody>\n",
       "</table>\n",
       "</div>"
      ],
      "text/plain": [
       "   outcome    country\n",
       "0      0.0  12.587453\n",
       "1      1.0  26.320388"
      ]
     },
     "execution_count": 182,
     "metadata": {},
     "output_type": "execute_result"
    }
   ],
   "source": [
    "countries= countries.groupby (['outcome'], as_index= False).agg ({'country':'mean'}) \n",
    "\n",
    "countries"
   ]
  },
  {
   "cell_type": "code",
   "execution_count": 183,
   "id": "d80c820b",
   "metadata": {},
   "outputs": [
    {
     "data": {
      "text/html": [
       "<div>\n",
       "<style scoped>\n",
       "    .dataframe tbody tr th:only-of-type {\n",
       "        vertical-align: middle;\n",
       "    }\n",
       "\n",
       "    .dataframe tbody tr th {\n",
       "        vertical-align: top;\n",
       "    }\n",
       "\n",
       "    .dataframe thead th {\n",
       "        text-align: right;\n",
       "    }\n",
       "</style>\n",
       "<table border=\"1\" class=\"dataframe\">\n",
       "  <thead>\n",
       "    <tr style=\"text-align: right;\">\n",
       "      <th></th>\n",
       "      <th>outcome</th>\n",
       "      <th>bid_id</th>\n",
       "      <th>av_auctions</th>\n",
       "      <th>merchandise_type</th>\n",
       "      <th>time_diff</th>\n",
       "      <th>countries</th>\n",
       "    </tr>\n",
       "  </thead>\n",
       "  <tbody>\n",
       "    <tr>\n",
       "      <th>0</th>\n",
       "      <td>0.0</td>\n",
       "      <td>24.341149</td>\n",
       "      <td>58.070707</td>\n",
       "      <td>1.000532</td>\n",
       "      <td>3.395101e+12</td>\n",
       "      <td>12.587453</td>\n",
       "    </tr>\n",
       "    <tr>\n",
       "      <th>1</th>\n",
       "      <td>1.0</td>\n",
       "      <td>27.606667</td>\n",
       "      <td>145.038835</td>\n",
       "      <td>1.000000</td>\n",
       "      <td>5.332332e+10</td>\n",
       "      <td>26.320388</td>\n",
       "    </tr>\n",
       "  </tbody>\n",
       "</table>\n",
       "</div>"
      ],
      "text/plain": [
       "   outcome     bid_id  av_auctions  merchandise_type     time_diff  countries\n",
       "0      0.0  24.341149    58.070707          1.000532  3.395101e+12  12.587453\n",
       "1      1.0  27.606667   145.038835          1.000000  5.332332e+10  26.320388"
      ]
     },
     "execution_count": 183,
     "metadata": {},
     "output_type": "execute_result"
    }
   ],
   "source": [
    "Final ['countries']= countries ['country']\n",
    "Final"
   ]
  },
  {
   "cell_type": "code",
   "execution_count": 33,
   "id": "faa750c7",
   "metadata": {},
   "outputs": [
    {
     "data": {
      "text/plain": [
       "<AxesSubplot:>"
      ]
     },
     "execution_count": 33,
     "metadata": {},
     "output_type": "execute_result"
    },
    {
     "data": {
      "image/png": "[encoded data removed]",
      "text/plain": [
       "<Figure size 432x288 with 1 Axes>"
      ]
     },
     "metadata": {
      "needs_background": "light"
     },
     "output_type": "display_data"
    }
   ],
   "source": [
    "Final[ ['bid_id', 'av_auctions', 'countries']].plot(kind=\"bar\")"
   ]
  },
  {
   "cell_type": "markdown",
   "id": "82643b0c",
   "metadata": {},
   "source": [
    "Per no. of IP addresses used:"
   ]
  },
  {
   "cell_type": "code",
   "execution_count": 184,
   "id": "b2be846f",
   "metadata": {},
   "outputs": [
    {
     "data": {
      "text/plain": [
       "<AxesSubplot:xlabel='outcome', ylabel='ip'>"
      ]
     },
     "execution_count": 184,
     "metadata": {},
     "output_type": "execute_result"
    },
    {
     "data": {
      "image/png": "[encoded data removed]",
      "text/plain": [
       "<Figure size 432x288 with 1 Axes>"
      ]
     },
     "metadata": {
      "needs_background": "light"
     },
     "output_type": "display_data"
    }
   ],
   "source": [
    "ip= df_outcomes.groupby (['outcome', 'bidder_id'], as_index= False).agg ({'ip':'nunique'}) \n",
    "\n",
    "ip.plot (kind = 'scatter', x = 'outcome', y = 'ip')"
   ]
  },
  {
   "cell_type": "code",
   "execution_count": 186,
   "id": "4826efdb",
   "metadata": {},
   "outputs": [
    {
     "data": {
      "text/html": [
       "<div>\n",
       "<style scoped>\n",
       "    .dataframe tbody tr th:only-of-type {\n",
       "        vertical-align: middle;\n",
       "    }\n",
       "\n",
       "    .dataframe tbody tr th {\n",
       "        vertical-align: top;\n",
       "    }\n",
       "\n",
       "    .dataframe thead th {\n",
       "        text-align: right;\n",
       "    }\n",
       "</style>\n",
       "<table border=\"1\" class=\"dataframe\">\n",
       "  <thead>\n",
       "    <tr style=\"text-align: right;\">\n",
       "      <th></th>\n",
       "      <th>outcome</th>\n",
       "      <th>bid_id</th>\n",
       "      <th>av_auctions</th>\n",
       "      <th>merchandise_type</th>\n",
       "      <th>time_diff</th>\n",
       "      <th>countries</th>\n",
       "      <th>no_ip</th>\n",
       "    </tr>\n",
       "  </thead>\n",
       "  <tbody>\n",
       "    <tr>\n",
       "      <th>0</th>\n",
       "      <td>0.0</td>\n",
       "      <td>24.341149</td>\n",
       "      <td>58.070707</td>\n",
       "      <td>1.000532</td>\n",
       "      <td>3.395101e+12</td>\n",
       "      <td>12.587453</td>\n",
       "      <td>581.256247</td>\n",
       "    </tr>\n",
       "    <tr>\n",
       "      <th>1</th>\n",
       "      <td>1.0</td>\n",
       "      <td>27.606667</td>\n",
       "      <td>145.038835</td>\n",
       "      <td>1.000000</td>\n",
       "      <td>5.332332e+10</td>\n",
       "      <td>26.320388</td>\n",
       "      <td>2387.796117</td>\n",
       "    </tr>\n",
       "  </tbody>\n",
       "</table>\n",
       "</div>"
      ],
      "text/plain": [
       "   outcome     bid_id  av_auctions  merchandise_type     time_diff  countries  \\\n",
       "0      0.0  24.341149    58.070707          1.000532  3.395101e+12  12.587453   \n",
       "1      1.0  27.606667   145.038835          1.000000  5.332332e+10  26.320388   \n",
       "\n",
       "         no_ip  \n",
       "0   581.256247  \n",
       "1  2387.796117  "
      ]
     },
     "execution_count": 186,
     "metadata": {},
     "output_type": "execute_result"
    }
   ],
   "source": [
    "ip= ip.groupby (['outcome'], as_index= False).agg ({'ip':'mean'}) \n",
    "\n",
    "\n",
    "Final ['no_ip']= ip ['ip']\n",
    "Final"
   ]
  },
  {
   "cell_type": "code",
   "execution_count": 187,
   "id": "942a2095",
   "metadata": {},
   "outputs": [],
   "source": [
    "new_column_names = [ 'Type', 'Av. no. bids per auction', 'av. no. auctions', 'Av. merch type','av. time difference between bids', 'av. no. of countries', 'av. no. of IPs']\n",
    "Final.to_csv ('Final.csv',  header=new_column_names, index = False)"
   ]
  },
  {
   "cell_type": "code",
   "execution_count": null,
   "id": "0d36e57c",
   "metadata": {},
   "outputs": [],
   "source": []
  }
 ],
 "metadata": {
  "kernelspec": {
   "display_name": "Python 3 (ipykernel)",
   "language": "python",
   "name": "python3"
  },
  "language_info": {
   "codemirror_mode": {
    "name": "ipython",
    "version": 3
   },
   "file_extension": ".py",
   "mimetype": "text/x-python",
   "name": "python",
   "nbconvert_exporter": "python",
   "pygments_lexer": "ipython3",
   "version": "3.10.4"
  }
 },
 "nbformat": 4,
 "nbformat_minor": 5
}
